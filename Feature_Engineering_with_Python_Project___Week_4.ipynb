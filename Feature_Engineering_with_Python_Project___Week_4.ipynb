{
  "cells": [
    {
      "cell_type": "markdown",
      "metadata": {
        "papermill": {
          "duration": 0.117245,
          "end_time": "2021-03-23T08:38:56.724222",
          "exception": false,
          "start_time": "2021-03-23T08:38:56.606977",
          "status": "completed"
        },
        "tags": [],
        "id": "HmG9fE6U4vMP"
      },
      "source": [
        "# Feature Engineering with Python Project ~ Week 4, P.M. Kuria"
      ]
    },
    {
      "cell_type": "markdown",
      "metadata": {
        "papermill": {
          "duration": 0.112263,
          "end_time": "2021-03-23T08:38:56.949224",
          "exception": false,
          "start_time": "2021-03-23T08:38:56.836961",
          "status": "completed"
        },
        "tags": [],
        "id": "3SUiPWSB4vMR"
      },
      "source": [
        "## 1. Defining the Question"
      ]
    },
    {
      "cell_type": "markdown",
      "source": [
        "### a) Specifying the Data Analysis Question"
      ],
      "metadata": {
        "id": "1FYY6gve8rkQ"
      }
    },
    {
      "cell_type": "markdown",
      "source": [
        "Sendy has hired you to help predict the estimated time of delivery of orders, from the point of driver pickup to the point of arrival at the final destination. "
      ],
      "metadata": {
        "id": "hVLB8oQ28tW2"
      }
    },
    {
      "cell_type": "markdown",
      "source": [
        "### b) Understanding the Context"
      ],
      "metadata": {
        "id": "ykDppIUT9F1A"
      }
    },
    {
      "cell_type": "markdown",
      "source": [
        "Logistics in Sub-Saharan Africa increases the cost of manufactured goods by up to 320%; while in Europe, it only accounts for up to 90% of the manufacturing cost. Sendy is a business-to-business platform established in 2014, to enable businesses of all types and sizes to transport goods more efficiently across East Africa. The company is headquartered in Kenya with a team of more than 100 staff, focused on building practical solutions for Africa’s dynamic transportation needs, from developing apps and web solutions to providing dedicated support for goods on the move.\n",
        "\n",
        "\n",
        "Dataset Information\n",
        "The dataset provided by Sendy includes order details and rider metrics based on orders made on the Sendy platform. The challenge is to predict the estimated time of arrival for orders- from pick-up to drop-off. The dataset provided here is a subset of over 20,000 orders and only includes direct orders (i.e. Sendy “express” orders) with bikes in Nairobi. All data in this subset have been fully anonymized while preserving the distribution.\n",
        "\n",
        "Dataset URL = https://bit.ly/3deaKEM\n",
        "\n",
        "Dataset Glossary = https://bit.ly/30O3xsr\n",
        "\n",
        "Hint\n",
        "\n",
        "Create your base model (ensemble regressor), then later improve the accuracy of the\n",
        "base model by performing the following feature engineering techniques:\n",
        "\n",
        "● Feature improvement\n",
        "\n",
        "○ Handle categorical features\n",
        "\n",
        "○ Find and deal with missing values\n",
        "\n",
        "○ Handle any outliers in your dataset\n",
        "\n",
        "● Feature scaling (normalisation or standardisation etc.)\n",
        "\n",
        "● Feature construction\n",
        "\n",
        "○ Create new features i.e. speed = distance/time, manhattan distance from pick up latitude and Longitude i.e. manhattan distance, haversine distance, bearing, centre point etc.\n",
        "\n",
        "● Feature Selection\n",
        "\n",
        "○ Filter methods\n",
        "\n",
        "○ Feature transformation (PCA, LDA, etc)\n",
        "\n",
        "○ Wrapper methods\n"
      ],
      "metadata": {
        "id": "1K86QcBf9Jw0"
      }
    },
    {
      "cell_type": "markdown",
      "source": [
        "### c) Recording the Experimental Design"
      ],
      "metadata": {
        "id": "eeLTne1p91ls"
      }
    },
    {
      "cell_type": "markdown",
      "metadata": {
        "papermill": {
          "duration": 0.112581,
          "end_time": "2021-03-23T08:38:57.174452",
          "exception": false,
          "start_time": "2021-03-23T08:38:57.061871",
          "status": "completed"
        },
        "tags": [],
        "id": "zfCun23Z4vMS"
      },
      "source": [
        "\n",
        "● Data Importation\n",
        "\n",
        "● Data Exploration\n",
        "\n",
        "● Data Preparation\n",
        "\n",
        "● Feature Enginnering\n",
        "\n",
        "● Data Modeling\n",
        "\n",
        "● Model Evaluation\n",
        "\n",
        "\n",
        "● Findings and Recommendations"
      ]
    },
    {
      "cell_type": "markdown",
      "source": [
        "### d) Metric of success"
      ],
      "metadata": {
        "id": "rtpvvl8DIaKy"
      }
    },
    {
      "cell_type": "markdown",
      "source": [
        "An accurate arrival time prediction will help all business to improve their logistics and communicate the accurate time their time to their customers"
      ],
      "metadata": {
        "id": "K4VG3AwXIfOh"
      }
    },
    {
      "cell_type": "markdown",
      "source": [
        "#Data Importation"
      ],
      "metadata": {
        "id": "c9bAr3p9AJhJ"
      }
    },
    {
      "cell_type": "markdown",
      "source": [
        "##Load Libraries"
      ],
      "metadata": {
        "id": "3esEX0SU-Kom"
      }
    },
    {
      "cell_type": "code",
      "execution_count": 1,
      "metadata": {
        "_cell_guid": "b1076dfc-b9ad-4769-8c92-a6c4dae69d19",
        "_uuid": "8f2839f25d086af736a60e9eeb907d3b93b6e0e5",
        "execution": {
          "iopub.execute_input": "2021-03-23T08:38:57.634942Z",
          "iopub.status.busy": "2021-03-23T08:38:57.634238Z",
          "iopub.status.idle": "2021-03-23T08:39:00.112168Z",
          "shell.execute_reply": "2021-03-23T08:39:00.112912Z"
        },
        "papermill": {
          "duration": 2.604892,
          "end_time": "2021-03-23T08:39:00.113361",
          "exception": false,
          "start_time": "2021-03-23T08:38:57.508469",
          "status": "completed"
        },
        "tags": [],
        "id": "6ScCviBX4vMT"
      },
      "outputs": [],
      "source": [
        "#Let us first import the relevant libraries\n",
        "# Import libraries \n",
        "import numpy as np\n",
        "import pandas as pd\n",
        "import matplotlib.pyplot as plt\n",
        "import matplotlib.style as style\n",
        "import seaborn as sns\n",
        "import scipy.stats as stats\n",
        "import plotly.express as px\n",
        "%matplotlib inline\n",
        "\n",
        "# Machine learning \n",
        "from sklearn.impute import SimpleImputer\n",
        "from sklearn.model_selection import train_test_split\n",
        "from sklearn.preprocessing import StandardScaler\n",
        "from sklearn.linear_model import LinearRegression\n",
        "from sklearn.tree import DecisionTreeRegressor\n",
        "from sklearn.ensemble import RandomForestRegressor\n",
        "from sklearn.linear_model import Ridge\n",
        "from sklearn.linear_model import Lasso\n",
        "from sklearn.metrics import mean_squared_error\n",
        "%matplotlib inline"
      ]
    },
    {
      "cell_type": "markdown",
      "metadata": {
        "papermill": {
          "duration": 0.110457,
          "end_time": "2021-03-23T08:39:00.557039",
          "exception": false,
          "start_time": "2021-03-23T08:39:00.446582",
          "status": "completed"
        },
        "tags": [],
        "id": "pQtXNEo54vMU"
      },
      "source": [
        "## Load Data"
      ]
    },
    {
      "cell_type": "code",
      "execution_count": 3,
      "metadata": {
        "execution": {
          "iopub.execute_input": "2021-03-23T08:39:00.787525Z",
          "iopub.status.busy": "2021-03-23T08:39:00.786783Z",
          "iopub.status.idle": "2021-03-23T08:39:00.957279Z",
          "shell.execute_reply": "2021-03-23T08:39:00.957742Z"
        },
        "papermill": {
          "duration": 0.287459,
          "end_time": "2021-03-23T08:39:00.957911",
          "exception": false,
          "start_time": "2021-03-23T08:39:00.670452",
          "status": "completed"
        },
        "tags": [],
        "colab": {
          "base_uri": "https://localhost:8080/"
        },
        "id": "J-GUtuAY4vMV",
        "outputId": "dbebf570-1598-4dec-8f22-cab9325b34f9"
      },
      "outputs": [
        {
          "output_type": "stream",
          "name": "stdout",
          "text": [
            "         Order No       User Id Vehicle Type  Platform Type  \\\n",
            "0   Order_No_4211   User_Id_633         Bike              3   \n",
            "1  Order_No_25375  User_Id_2285         Bike              3   \n",
            "2   Order_No_1899   User_Id_265         Bike              3   \n",
            "3   Order_No_9336  User_Id_1402         Bike              3   \n",
            "4  Order_No_27883  User_Id_1737         Bike              1   \n",
            "\n",
            "  Personal or Business  Placement - Day of Month  \\\n",
            "0             Business                         9   \n",
            "1             Personal                        12   \n",
            "2             Business                        30   \n",
            "3             Business                        15   \n",
            "4             Personal                        13   \n",
            "\n",
            "   Placement - Weekday (Mo = 1) Placement - Time  Confirmation - Day of Month  \\\n",
            "0                             5       9:35:46 AM                            9   \n",
            "1                             5      11:16:16 AM                           12   \n",
            "2                             2      12:39:25 PM                           30   \n",
            "3                             5       9:25:34 AM                           15   \n",
            "4                             1       9:55:18 AM                           13   \n",
            "\n",
            "   Confirmation - Weekday (Mo = 1)  ... Pickup Lat  Pickup Long  \\\n",
            "0                                5  ...  -1.317755    36.830370   \n",
            "1                                5  ...  -1.351453    36.899315   \n",
            "2                                2  ...  -1.308284    36.843419   \n",
            "3                                5  ...  -1.281301    36.832396   \n",
            "4                                1  ...  -1.266597    36.792118   \n",
            "\n",
            "   Destination Lat Destination Long      Rider Id  \\\n",
            "0        -1.300406        36.829741  Rider_Id_432   \n",
            "1        -1.295004        36.814358  Rider_Id_856   \n",
            "2        -1.300921        36.828195  Rider_Id_155   \n",
            "3        -1.257147        36.795063  Rider_Id_855   \n",
            "4        -1.295041        36.809817  Rider_Id_770   \n",
            "\n",
            "   Time from Pickup to Arrival No_Of_Orders   Age  Average_Rating  \\\n",
            "0                          745         1637  1309            13.8   \n",
            "1                         1993          396   339            13.6   \n",
            "2                          455         1023   242            12.5   \n",
            "3                         1341          886   283            14.5   \n",
            "4                         1214         2311   872            14.1   \n",
            "\n",
            "  No_of_Ratings  \n",
            "0           549  \n",
            "1            69  \n",
            "2           114  \n",
            "3           113  \n",
            "4           533  \n",
            "\n",
            "[5 rows x 33 columns]\n",
            "         Order No       User Id Vehicle Type  Platform Type  \\\n",
            "0  Order_No_19248  User_Id_3355         Bike              3   \n",
            "1  Order_No_12736  User_Id_3647         Bike              3   \n",
            "2    Order_No_768  User_Id_2154         Bike              3   \n",
            "3  Order_No_15332  User_Id_2910         Bike              3   \n",
            "4  Order_No_21373  User_Id_1205         Bike              3   \n",
            "\n",
            "  Personal or Business  Placement - Day of Month  \\\n",
            "0             Business                        27   \n",
            "1             Business                        17   \n",
            "2             Business                        27   \n",
            "3             Business                        17   \n",
            "4             Business                        11   \n",
            "\n",
            "   Placement - Weekday (Mo = 1) Placement - Time  Confirmation - Day of Month  \\\n",
            "0                             3       4:44:10 PM                           27   \n",
            "1                             5      12:57:35 PM                           17   \n",
            "2                             4      11:08:14 AM                           27   \n",
            "3                             1       1:51:35 PM                           17   \n",
            "4                             2      11:30:28 AM                           11   \n",
            "\n",
            "   Confirmation - Weekday (Mo = 1)  ... Precipitation in millimeters  \\\n",
            "0                                3  ...                          NaN   \n",
            "1                                5  ...                          NaN   \n",
            "2                                4  ...                          NaN   \n",
            "3                                1  ...                          NaN   \n",
            "4                                2  ...                          NaN   \n",
            "\n",
            "   Pickup Lat  Pickup Long Destination Lat  Destination Long      Rider Id  \\\n",
            "0   -1.333275    36.870815       -1.305249         36.822390  Rider_Id_192   \n",
            "1   -1.272639    36.794723       -1.277007         36.823907  Rider_Id_868   \n",
            "2   -1.290894    36.822971       -1.276574         36.851365   Rider_Id_26   \n",
            "3   -1.290503    36.809646       -1.303382         36.790658  Rider_Id_685   \n",
            "4   -1.281081    36.814423       -1.266467         36.792161  Rider_Id_858   \n",
            "\n",
            "  No_Of_Orders   Age  Average_Rating  No_of_Ratings  \n",
            "0          439  1511            13.3            171  \n",
            "1          488   273            14.4             45  \n",
            "2          833   460            13.1             67  \n",
            "3          487   560            13.7             44  \n",
            "4         4761  1120            14.1           1010  \n",
            "\n",
            "[5 rows x 29 columns]\n"
          ]
        }
      ],
      "source": [
        "# Import each csv file\n",
        "test_raw = pd.read_csv('Test.csv')\n",
        "train_raw = pd.read_csv('Train.csv')\n",
        "riders_raw = pd.read_csv('Riders.csv')\n",
        "\n",
        "# Join riders to test & train data and initialise working dataframes\n",
        "train = pd.merge(train_raw, riders_raw, on=\"Rider Id\", how=\"left\") \n",
        "test = pd.merge(test_raw, riders_raw, how=\"left\", on=\"Rider Id\")\n",
        "print(train.head())\n",
        "print(test.head())"
      ]
    },
    {
      "cell_type": "markdown",
      "metadata": {
        "papermill": {
          "duration": 0.115111,
          "end_time": "2021-03-23T08:39:02.438319",
          "exception": false,
          "start_time": "2021-03-23T08:39:02.323208",
          "status": "completed"
        },
        "tags": [],
        "id": "nz8rcbVd4vMW"
      },
      "source": [
        "# Data Exploration: Exploratory Data Analysis (EDA)"
      ]
    },
    {
      "cell_type": "code",
      "execution_count": 4,
      "metadata": {
        "execution": {
          "iopub.execute_input": "2021-03-23T08:39:03.131771Z",
          "iopub.status.busy": "2021-03-23T08:39:03.131195Z",
          "iopub.status.idle": "2021-03-23T08:39:03.134197Z",
          "shell.execute_reply": "2021-03-23T08:39:03.133558Z"
        },
        "papermill": {
          "duration": 0.122246,
          "end_time": "2021-03-23T08:39:03.134335",
          "exception": false,
          "start_time": "2021-03-23T08:39:03.012089",
          "status": "completed"
        },
        "tags": [],
        "id": "0lDHCnWH4vMX",
        "colab": {
          "base_uri": "https://localhost:8080/"
        },
        "outputId": "62a67b37-1dd9-4e90-a7ee-4b5d7305a4e8"
      },
      "outputs": [
        {
          "output_type": "stream",
          "name": "stdout",
          "text": [
            "<class 'pandas.core.frame.DataFrame'>\n",
            "RangeIndex: 21201 entries, 0 to 21200\n",
            "Data columns (total 29 columns):\n",
            " #   Column                                     Non-Null Count  Dtype  \n",
            "---  ------                                     --------------  -----  \n",
            " 0   Order No                                   21201 non-null  object \n",
            " 1   User Id                                    21201 non-null  object \n",
            " 2   Vehicle Type                               21201 non-null  object \n",
            " 3   Platform Type                              21201 non-null  int64  \n",
            " 4   Personal or Business                       21201 non-null  object \n",
            " 5   Placement - Day of Month                   21201 non-null  int64  \n",
            " 6   Placement - Weekday (Mo = 1)               21201 non-null  int64  \n",
            " 7   Placement - Time                           21201 non-null  object \n",
            " 8   Confirmation - Day of Month                21201 non-null  int64  \n",
            " 9   Confirmation - Weekday (Mo = 1)            21201 non-null  int64  \n",
            " 10  Confirmation - Time                        21201 non-null  object \n",
            " 11  Arrival at Pickup - Day of Month           21201 non-null  int64  \n",
            " 12  Arrival at Pickup - Weekday (Mo = 1)       21201 non-null  int64  \n",
            " 13  Arrival at Pickup - Time                   21201 non-null  object \n",
            " 14  Pickup - Day of Month                      21201 non-null  int64  \n",
            " 15  Pickup - Weekday (Mo = 1)                  21201 non-null  int64  \n",
            " 16  Pickup - Time                              21201 non-null  object \n",
            " 17  Arrival at Destination - Day of Month      21201 non-null  int64  \n",
            " 18  Arrival at Destination - Weekday (Mo = 1)  21201 non-null  int64  \n",
            " 19  Arrival at Destination - Time              21201 non-null  object \n",
            " 20  Distance (KM)                              21201 non-null  int64  \n",
            " 21  Temperature                                16835 non-null  float64\n",
            " 22  Precipitation in millimeters               552 non-null    float64\n",
            " 23  Pickup Lat                                 21201 non-null  float64\n",
            " 24  Pickup Long                                21201 non-null  float64\n",
            " 25  Destination Lat                            21201 non-null  float64\n",
            " 26  Destination Long                           21201 non-null  float64\n",
            " 27  Rider Id                                   21201 non-null  object \n",
            " 28  Time from Pickup to Arrival                21201 non-null  int64  \n",
            "dtypes: float64(6), int64(13), object(10)\n",
            "memory usage: 4.7+ MB\n"
          ]
        }
      ],
      "source": [
        "train_raw.info()"
      ]
    },
    {
      "cell_type": "code",
      "source": [
        "test_raw.info()"
      ],
      "metadata": {
        "colab": {
          "base_uri": "https://localhost:8080/"
        },
        "id": "QQ4Ogy3U8nn9",
        "outputId": "4142ed0f-a7ff-4ed4-8f96-9eee005b2df9"
      },
      "execution_count": 5,
      "outputs": [
        {
          "output_type": "stream",
          "name": "stdout",
          "text": [
            "<class 'pandas.core.frame.DataFrame'>\n",
            "RangeIndex: 7068 entries, 0 to 7067\n",
            "Data columns (total 25 columns):\n",
            " #   Column                                Non-Null Count  Dtype  \n",
            "---  ------                                --------------  -----  \n",
            " 0   Order No                              7068 non-null   object \n",
            " 1   User Id                               7068 non-null   object \n",
            " 2   Vehicle Type                          7068 non-null   object \n",
            " 3   Platform Type                         7068 non-null   int64  \n",
            " 4   Personal or Business                  7068 non-null   object \n",
            " 5   Placement - Day of Month              7068 non-null   int64  \n",
            " 6   Placement - Weekday (Mo = 1)          7068 non-null   int64  \n",
            " 7   Placement - Time                      7068 non-null   object \n",
            " 8   Confirmation - Day of Month           7068 non-null   int64  \n",
            " 9   Confirmation - Weekday (Mo = 1)       7068 non-null   int64  \n",
            " 10  Confirmation - Time                   7068 non-null   object \n",
            " 11  Arrival at Pickup - Day of Month      7068 non-null   int64  \n",
            " 12  Arrival at Pickup - Weekday (Mo = 1)  7068 non-null   int64  \n",
            " 13  Arrival at Pickup - Time              7068 non-null   object \n",
            " 14  Pickup - Day of Month                 7068 non-null   int64  \n",
            " 15  Pickup - Weekday (Mo = 1)             7068 non-null   int64  \n",
            " 16  Pickup - Time                         7068 non-null   object \n",
            " 17  Distance (KM)                         7068 non-null   int64  \n",
            " 18  Temperature                           5631 non-null   float64\n",
            " 19  Precipitation in millimeters          199 non-null    float64\n",
            " 20  Pickup Lat                            7068 non-null   float64\n",
            " 21  Pickup Long                           7068 non-null   float64\n",
            " 22  Destination Lat                       7068 non-null   float64\n",
            " 23  Destination Long                      7068 non-null   float64\n",
            " 24  Rider Id                              7068 non-null   object \n",
            "dtypes: float64(6), int64(10), object(9)\n",
            "memory usage: 1.3+ MB\n"
          ]
        }
      ]
    },
    {
      "cell_type": "code",
      "source": [
        "riders_raw.info()"
      ],
      "metadata": {
        "colab": {
          "base_uri": "https://localhost:8080/"
        },
        "id": "tDP7rWza8r_q",
        "outputId": "316111b0-ae6e-4ef5-9647-39bb7596e5c6"
      },
      "execution_count": 6,
      "outputs": [
        {
          "output_type": "stream",
          "name": "stdout",
          "text": [
            "<class 'pandas.core.frame.DataFrame'>\n",
            "RangeIndex: 960 entries, 0 to 959\n",
            "Data columns (total 5 columns):\n",
            " #   Column          Non-Null Count  Dtype  \n",
            "---  ------          --------------  -----  \n",
            " 0   Rider Id        960 non-null    object \n",
            " 1   No_Of_Orders    960 non-null    int64  \n",
            " 2   Age             960 non-null    int64  \n",
            " 3   Average_Rating  960 non-null    float64\n",
            " 4   No_of_Ratings   960 non-null    int64  \n",
            "dtypes: float64(1), int64(3), object(1)\n",
            "memory usage: 37.6+ KB\n"
          ]
        }
      ]
    },
    {
      "cell_type": "markdown",
      "source": [
        "Observations:\n",
        "\n",
        "Both the train & test data sets have missing values for the 'Temperature' & 'Precipitation' columns. The missing values should be imputed using an appropriate method. Approximately 20% of the Temperature values are missing in both the Test & Train data sets. Replacing the NaN values with the average could therefore be a reasonable assumption. Approximately 97% of the Precipitation values are missing. Imputation of the NaN values could be achieved either via assuming zero precipitation for those Order times, or imputation by mode.\n",
        "\n",
        "As the data has already been split into train and test sets we can go ahead and impute the values for each set. It is best practice to impute values after the split to prevent data leakage and ensure a fair test of the model.\n",
        "\n",
        "The riders.csv file has no missing values. Phew!\n",
        "\n",
        "There a few object types in each dataframe which need to either be converted into numeric types or potentially dropped from the data set. The time variables are currently object types and require conversion into DateTime.\n",
        "\n",
        "Summary: impute missing temperature and precipitation values. Join riders to both test & train."
      ],
      "metadata": {
        "id": "1L7p2Esm2E7a"
      }
    },
    {
      "cell_type": "markdown",
      "source": [
        "## Data Cleaning"
      ],
      "metadata": {
        "id": "Yc0VH0eb2qIl"
      }
    },
    {
      "cell_type": "code",
      "source": [
        "def col_names_without_spaces(df):\n",
        "  \"\"\"\n",
        "  This function removes spaces in column names by replacing them with underscores \n",
        "  and converts all uppercase letters to lowercase.\n",
        "\n",
        "  arguments: \n",
        "  df: original Pandas DataFrame\n",
        "\n",
        "  Returns:\n",
        "  Modified DataFrame\n",
        "  \"\"\"\n",
        "\n",
        "  df.columns = [col.replace(\" \",\"_\") for col in df.columns] \n",
        "  df.columns = [col.lower() for col in df.columns]\n",
        "  return df\n",
        "\n",
        "col_names_without_spaces(train)\n",
        "col_names_without_spaces(test)"
      ],
      "metadata": {
        "id": "-mwyM28y21Gc",
        "colab": {
          "base_uri": "https://localhost:8080/",
          "height": 505
        },
        "outputId": "b1e7881d-141d-4b03-98ec-d61e9fe57995"
      },
      "execution_count": 7,
      "outputs": [
        {
          "output_type": "execute_result",
          "data": {
            "text/plain": [
              "            order_no       user_id vehicle_type  platform_type  \\\n",
              "0     Order_No_19248  User_Id_3355         Bike              3   \n",
              "1     Order_No_12736  User_Id_3647         Bike              3   \n",
              "2       Order_No_768  User_Id_2154         Bike              3   \n",
              "3     Order_No_15332  User_Id_2910         Bike              3   \n",
              "4     Order_No_21373  User_Id_1205         Bike              3   \n",
              "...              ...           ...          ...            ...   \n",
              "7063   Order_No_3612  User_Id_2587         Bike              3   \n",
              "7064   Order_No_7657  User_Id_3547         Bike              3   \n",
              "7065   Order_No_1969   User_Id_136         Bike              3   \n",
              "7066  Order_No_10591  User_Id_1979         Bike              3   \n",
              "7067   Order_No_1603  User_Id_1721         Bike              3   \n",
              "\n",
              "     personal_or_business  placement_-_day_of_month  \\\n",
              "0                Business                        27   \n",
              "1                Business                        17   \n",
              "2                Business                        27   \n",
              "3                Business                        17   \n",
              "4                Business                        11   \n",
              "...                   ...                       ...   \n",
              "7063             Business                         7   \n",
              "7064             Business                        10   \n",
              "7065             Business                         5   \n",
              "7066             Personal                        29   \n",
              "7067             Business                         4   \n",
              "\n",
              "      placement_-_weekday_(mo_=_1) placement_-_time  \\\n",
              "0                                3       4:44:10 PM   \n",
              "1                                5      12:57:35 PM   \n",
              "2                                4      11:08:14 AM   \n",
              "3                                1       1:51:35 PM   \n",
              "4                                2      11:30:28 AM   \n",
              "...                            ...              ...   \n",
              "7063                             1      10:35:49 AM   \n",
              "7064                             3       2:59:42 PM   \n",
              "7065                             3       2:45:12 PM   \n",
              "7066                             2       3:18:26 PM   \n",
              "7067                             2       3:37:09 PM   \n",
              "\n",
              "      confirmation_-_day_of_month  confirmation_-_weekday_(mo_=_1)  ...  \\\n",
              "0                              27                                3  ...   \n",
              "1                              17                                5  ...   \n",
              "2                              27                                4  ...   \n",
              "3                              17                                1  ...   \n",
              "4                              11                                2  ...   \n",
              "...                           ...                              ...  ...   \n",
              "7063                            7                                1  ...   \n",
              "7064                           10                                3  ...   \n",
              "7065                            5                                3  ...   \n",
              "7066                           29                                2  ...   \n",
              "7067                            4                                2  ...   \n",
              "\n",
              "     precipitation_in_millimeters  pickup_lat  pickup_long destination_lat  \\\n",
              "0                             NaN   -1.333275    36.870815       -1.305249   \n",
              "1                             NaN   -1.272639    36.794723       -1.277007   \n",
              "2                             NaN   -1.290894    36.822971       -1.276574   \n",
              "3                             NaN   -1.290503    36.809646       -1.303382   \n",
              "4                             NaN   -1.281081    36.814423       -1.266467   \n",
              "...                           ...         ...          ...             ...   \n",
              "7063                          NaN   -1.258414    36.804800       -1.288780   \n",
              "7064                          NaN   -1.276141    36.771084       -1.316098   \n",
              "7065                          NaN   -1.301446    36.766138       -1.264960   \n",
              "7066                          NaN   -1.248404    36.678276       -1.272027   \n",
              "7067                          NaN   -1.255189    36.782203       -1.300406   \n",
              "\n",
              "      destination_long      rider_id no_of_orders   age  average_rating  \\\n",
              "0            36.822390  Rider_Id_192          439  1511            13.3   \n",
              "1            36.823907  Rider_Id_868          488   273            14.4   \n",
              "2            36.851365   Rider_Id_26          833   460            13.1   \n",
              "3            36.790658  Rider_Id_685          487   560            13.7   \n",
              "4            36.792161  Rider_Id_858         4761  1120            14.1   \n",
              "...                ...           ...          ...   ...             ...   \n",
              "7063         36.816831  Rider_Id_362         1018   504            13.1   \n",
              "7064         36.913164  Rider_Id_669         6728  2702            13.9   \n",
              "7065         36.798178  Rider_Id_379         1601  1337            13.7   \n",
              "7066         36.817411  Rider_Id_474          225   878            14.1   \n",
              "7067         36.829741   Rider_Id_76          847   297            14.0   \n",
              "\n",
              "      no_of_ratings  \n",
              "0               171  \n",
              "1                45  \n",
              "2                67  \n",
              "3                44  \n",
              "4              1010  \n",
              "...             ...  \n",
              "7063             87  \n",
              "7064           2027  \n",
              "7065            441  \n",
              "7066             66  \n",
              "7067            108  \n",
              "\n",
              "[7068 rows x 29 columns]"
            ],
            "text/html": [
              "\n",
              "  <div id=\"df-1602d1a2-b873-4a81-9e46-9e2479f22d55\">\n",
              "    <div class=\"colab-df-container\">\n",
              "      <div>\n",
              "<style scoped>\n",
              "    .dataframe tbody tr th:only-of-type {\n",
              "        vertical-align: middle;\n",
              "    }\n",
              "\n",
              "    .dataframe tbody tr th {\n",
              "        vertical-align: top;\n",
              "    }\n",
              "\n",
              "    .dataframe thead th {\n",
              "        text-align: right;\n",
              "    }\n",
              "</style>\n",
              "<table border=\"1\" class=\"dataframe\">\n",
              "  <thead>\n",
              "    <tr style=\"text-align: right;\">\n",
              "      <th></th>\n",
              "      <th>order_no</th>\n",
              "      <th>user_id</th>\n",
              "      <th>vehicle_type</th>\n",
              "      <th>platform_type</th>\n",
              "      <th>personal_or_business</th>\n",
              "      <th>placement_-_day_of_month</th>\n",
              "      <th>placement_-_weekday_(mo_=_1)</th>\n",
              "      <th>placement_-_time</th>\n",
              "      <th>confirmation_-_day_of_month</th>\n",
              "      <th>confirmation_-_weekday_(mo_=_1)</th>\n",
              "      <th>...</th>\n",
              "      <th>precipitation_in_millimeters</th>\n",
              "      <th>pickup_lat</th>\n",
              "      <th>pickup_long</th>\n",
              "      <th>destination_lat</th>\n",
              "      <th>destination_long</th>\n",
              "      <th>rider_id</th>\n",
              "      <th>no_of_orders</th>\n",
              "      <th>age</th>\n",
              "      <th>average_rating</th>\n",
              "      <th>no_of_ratings</th>\n",
              "    </tr>\n",
              "  </thead>\n",
              "  <tbody>\n",
              "    <tr>\n",
              "      <th>0</th>\n",
              "      <td>Order_No_19248</td>\n",
              "      <td>User_Id_3355</td>\n",
              "      <td>Bike</td>\n",
              "      <td>3</td>\n",
              "      <td>Business</td>\n",
              "      <td>27</td>\n",
              "      <td>3</td>\n",
              "      <td>4:44:10 PM</td>\n",
              "      <td>27</td>\n",
              "      <td>3</td>\n",
              "      <td>...</td>\n",
              "      <td>NaN</td>\n",
              "      <td>-1.333275</td>\n",
              "      <td>36.870815</td>\n",
              "      <td>-1.305249</td>\n",
              "      <td>36.822390</td>\n",
              "      <td>Rider_Id_192</td>\n",
              "      <td>439</td>\n",
              "      <td>1511</td>\n",
              "      <td>13.3</td>\n",
              "      <td>171</td>\n",
              "    </tr>\n",
              "    <tr>\n",
              "      <th>1</th>\n",
              "      <td>Order_No_12736</td>\n",
              "      <td>User_Id_3647</td>\n",
              "      <td>Bike</td>\n",
              "      <td>3</td>\n",
              "      <td>Business</td>\n",
              "      <td>17</td>\n",
              "      <td>5</td>\n",
              "      <td>12:57:35 PM</td>\n",
              "      <td>17</td>\n",
              "      <td>5</td>\n",
              "      <td>...</td>\n",
              "      <td>NaN</td>\n",
              "      <td>-1.272639</td>\n",
              "      <td>36.794723</td>\n",
              "      <td>-1.277007</td>\n",
              "      <td>36.823907</td>\n",
              "      <td>Rider_Id_868</td>\n",
              "      <td>488</td>\n",
              "      <td>273</td>\n",
              "      <td>14.4</td>\n",
              "      <td>45</td>\n",
              "    </tr>\n",
              "    <tr>\n",
              "      <th>2</th>\n",
              "      <td>Order_No_768</td>\n",
              "      <td>User_Id_2154</td>\n",
              "      <td>Bike</td>\n",
              "      <td>3</td>\n",
              "      <td>Business</td>\n",
              "      <td>27</td>\n",
              "      <td>4</td>\n",
              "      <td>11:08:14 AM</td>\n",
              "      <td>27</td>\n",
              "      <td>4</td>\n",
              "      <td>...</td>\n",
              "      <td>NaN</td>\n",
              "      <td>-1.290894</td>\n",
              "      <td>36.822971</td>\n",
              "      <td>-1.276574</td>\n",
              "      <td>36.851365</td>\n",
              "      <td>Rider_Id_26</td>\n",
              "      <td>833</td>\n",
              "      <td>460</td>\n",
              "      <td>13.1</td>\n",
              "      <td>67</td>\n",
              "    </tr>\n",
              "    <tr>\n",
              "      <th>3</th>\n",
              "      <td>Order_No_15332</td>\n",
              "      <td>User_Id_2910</td>\n",
              "      <td>Bike</td>\n",
              "      <td>3</td>\n",
              "      <td>Business</td>\n",
              "      <td>17</td>\n",
              "      <td>1</td>\n",
              "      <td>1:51:35 PM</td>\n",
              "      <td>17</td>\n",
              "      <td>1</td>\n",
              "      <td>...</td>\n",
              "      <td>NaN</td>\n",
              "      <td>-1.290503</td>\n",
              "      <td>36.809646</td>\n",
              "      <td>-1.303382</td>\n",
              "      <td>36.790658</td>\n",
              "      <td>Rider_Id_685</td>\n",
              "      <td>487</td>\n",
              "      <td>560</td>\n",
              "      <td>13.7</td>\n",
              "      <td>44</td>\n",
              "    </tr>\n",
              "    <tr>\n",
              "      <th>4</th>\n",
              "      <td>Order_No_21373</td>\n",
              "      <td>User_Id_1205</td>\n",
              "      <td>Bike</td>\n",
              "      <td>3</td>\n",
              "      <td>Business</td>\n",
              "      <td>11</td>\n",
              "      <td>2</td>\n",
              "      <td>11:30:28 AM</td>\n",
              "      <td>11</td>\n",
              "      <td>2</td>\n",
              "      <td>...</td>\n",
              "      <td>NaN</td>\n",
              "      <td>-1.281081</td>\n",
              "      <td>36.814423</td>\n",
              "      <td>-1.266467</td>\n",
              "      <td>36.792161</td>\n",
              "      <td>Rider_Id_858</td>\n",
              "      <td>4761</td>\n",
              "      <td>1120</td>\n",
              "      <td>14.1</td>\n",
              "      <td>1010</td>\n",
              "    </tr>\n",
              "    <tr>\n",
              "      <th>...</th>\n",
              "      <td>...</td>\n",
              "      <td>...</td>\n",
              "      <td>...</td>\n",
              "      <td>...</td>\n",
              "      <td>...</td>\n",
              "      <td>...</td>\n",
              "      <td>...</td>\n",
              "      <td>...</td>\n",
              "      <td>...</td>\n",
              "      <td>...</td>\n",
              "      <td>...</td>\n",
              "      <td>...</td>\n",
              "      <td>...</td>\n",
              "      <td>...</td>\n",
              "      <td>...</td>\n",
              "      <td>...</td>\n",
              "      <td>...</td>\n",
              "      <td>...</td>\n",
              "      <td>...</td>\n",
              "      <td>...</td>\n",
              "      <td>...</td>\n",
              "    </tr>\n",
              "    <tr>\n",
              "      <th>7063</th>\n",
              "      <td>Order_No_3612</td>\n",
              "      <td>User_Id_2587</td>\n",
              "      <td>Bike</td>\n",
              "      <td>3</td>\n",
              "      <td>Business</td>\n",
              "      <td>7</td>\n",
              "      <td>1</td>\n",
              "      <td>10:35:49 AM</td>\n",
              "      <td>7</td>\n",
              "      <td>1</td>\n",
              "      <td>...</td>\n",
              "      <td>NaN</td>\n",
              "      <td>-1.258414</td>\n",
              "      <td>36.804800</td>\n",
              "      <td>-1.288780</td>\n",
              "      <td>36.816831</td>\n",
              "      <td>Rider_Id_362</td>\n",
              "      <td>1018</td>\n",
              "      <td>504</td>\n",
              "      <td>13.1</td>\n",
              "      <td>87</td>\n",
              "    </tr>\n",
              "    <tr>\n",
              "      <th>7064</th>\n",
              "      <td>Order_No_7657</td>\n",
              "      <td>User_Id_3547</td>\n",
              "      <td>Bike</td>\n",
              "      <td>3</td>\n",
              "      <td>Business</td>\n",
              "      <td>10</td>\n",
              "      <td>3</td>\n",
              "      <td>2:59:42 PM</td>\n",
              "      <td>10</td>\n",
              "      <td>3</td>\n",
              "      <td>...</td>\n",
              "      <td>NaN</td>\n",
              "      <td>-1.276141</td>\n",
              "      <td>36.771084</td>\n",
              "      <td>-1.316098</td>\n",
              "      <td>36.913164</td>\n",
              "      <td>Rider_Id_669</td>\n",
              "      <td>6728</td>\n",
              "      <td>2702</td>\n",
              "      <td>13.9</td>\n",
              "      <td>2027</td>\n",
              "    </tr>\n",
              "    <tr>\n",
              "      <th>7065</th>\n",
              "      <td>Order_No_1969</td>\n",
              "      <td>User_Id_136</td>\n",
              "      <td>Bike</td>\n",
              "      <td>3</td>\n",
              "      <td>Business</td>\n",
              "      <td>5</td>\n",
              "      <td>3</td>\n",
              "      <td>2:45:12 PM</td>\n",
              "      <td>5</td>\n",
              "      <td>3</td>\n",
              "      <td>...</td>\n",
              "      <td>NaN</td>\n",
              "      <td>-1.301446</td>\n",
              "      <td>36.766138</td>\n",
              "      <td>-1.264960</td>\n",
              "      <td>36.798178</td>\n",
              "      <td>Rider_Id_379</td>\n",
              "      <td>1601</td>\n",
              "      <td>1337</td>\n",
              "      <td>13.7</td>\n",
              "      <td>441</td>\n",
              "    </tr>\n",
              "    <tr>\n",
              "      <th>7066</th>\n",
              "      <td>Order_No_10591</td>\n",
              "      <td>User_Id_1979</td>\n",
              "      <td>Bike</td>\n",
              "      <td>3</td>\n",
              "      <td>Personal</td>\n",
              "      <td>29</td>\n",
              "      <td>2</td>\n",
              "      <td>3:18:26 PM</td>\n",
              "      <td>29</td>\n",
              "      <td>2</td>\n",
              "      <td>...</td>\n",
              "      <td>NaN</td>\n",
              "      <td>-1.248404</td>\n",
              "      <td>36.678276</td>\n",
              "      <td>-1.272027</td>\n",
              "      <td>36.817411</td>\n",
              "      <td>Rider_Id_474</td>\n",
              "      <td>225</td>\n",
              "      <td>878</td>\n",
              "      <td>14.1</td>\n",
              "      <td>66</td>\n",
              "    </tr>\n",
              "    <tr>\n",
              "      <th>7067</th>\n",
              "      <td>Order_No_1603</td>\n",
              "      <td>User_Id_1721</td>\n",
              "      <td>Bike</td>\n",
              "      <td>3</td>\n",
              "      <td>Business</td>\n",
              "      <td>4</td>\n",
              "      <td>2</td>\n",
              "      <td>3:37:09 PM</td>\n",
              "      <td>4</td>\n",
              "      <td>2</td>\n",
              "      <td>...</td>\n",
              "      <td>NaN</td>\n",
              "      <td>-1.255189</td>\n",
              "      <td>36.782203</td>\n",
              "      <td>-1.300406</td>\n",
              "      <td>36.829741</td>\n",
              "      <td>Rider_Id_76</td>\n",
              "      <td>847</td>\n",
              "      <td>297</td>\n",
              "      <td>14.0</td>\n",
              "      <td>108</td>\n",
              "    </tr>\n",
              "  </tbody>\n",
              "</table>\n",
              "<p>7068 rows × 29 columns</p>\n",
              "</div>\n",
              "      <button class=\"colab-df-convert\" onclick=\"convertToInteractive('df-1602d1a2-b873-4a81-9e46-9e2479f22d55')\"\n",
              "              title=\"Convert this dataframe to an interactive table.\"\n",
              "              style=\"display:none;\">\n",
              "        \n",
              "  <svg xmlns=\"http://www.w3.org/2000/svg\" height=\"24px\"viewBox=\"0 0 24 24\"\n",
              "       width=\"24px\">\n",
              "    <path d=\"M0 0h24v24H0V0z\" fill=\"none\"/>\n",
              "    <path d=\"M18.56 5.44l.94 2.06.94-2.06 2.06-.94-2.06-.94-.94-2.06-.94 2.06-2.06.94zm-11 1L8.5 8.5l.94-2.06 2.06-.94-2.06-.94L8.5 2.5l-.94 2.06-2.06.94zm10 10l.94 2.06.94-2.06 2.06-.94-2.06-.94-.94-2.06-.94 2.06-2.06.94z\"/><path d=\"M17.41 7.96l-1.37-1.37c-.4-.4-.92-.59-1.43-.59-.52 0-1.04.2-1.43.59L10.3 9.45l-7.72 7.72c-.78.78-.78 2.05 0 2.83L4 21.41c.39.39.9.59 1.41.59.51 0 1.02-.2 1.41-.59l7.78-7.78 2.81-2.81c.8-.78.8-2.07 0-2.86zM5.41 20L4 18.59l7.72-7.72 1.47 1.35L5.41 20z\"/>\n",
              "  </svg>\n",
              "      </button>\n",
              "      \n",
              "  <style>\n",
              "    .colab-df-container {\n",
              "      display:flex;\n",
              "      flex-wrap:wrap;\n",
              "      gap: 12px;\n",
              "    }\n",
              "\n",
              "    .colab-df-convert {\n",
              "      background-color: #E8F0FE;\n",
              "      border: none;\n",
              "      border-radius: 50%;\n",
              "      cursor: pointer;\n",
              "      display: none;\n",
              "      fill: #1967D2;\n",
              "      height: 32px;\n",
              "      padding: 0 0 0 0;\n",
              "      width: 32px;\n",
              "    }\n",
              "\n",
              "    .colab-df-convert:hover {\n",
              "      background-color: #E2EBFA;\n",
              "      box-shadow: 0px 1px 2px rgba(60, 64, 67, 0.3), 0px 1px 3px 1px rgba(60, 64, 67, 0.15);\n",
              "      fill: #174EA6;\n",
              "    }\n",
              "\n",
              "    [theme=dark] .colab-df-convert {\n",
              "      background-color: #3B4455;\n",
              "      fill: #D2E3FC;\n",
              "    }\n",
              "\n",
              "    [theme=dark] .colab-df-convert:hover {\n",
              "      background-color: #434B5C;\n",
              "      box-shadow: 0px 1px 3px 1px rgba(0, 0, 0, 0.15);\n",
              "      filter: drop-shadow(0px 1px 2px rgba(0, 0, 0, 0.3));\n",
              "      fill: #FFFFFF;\n",
              "    }\n",
              "  </style>\n",
              "\n",
              "      <script>\n",
              "        const buttonEl =\n",
              "          document.querySelector('#df-1602d1a2-b873-4a81-9e46-9e2479f22d55 button.colab-df-convert');\n",
              "        buttonEl.style.display =\n",
              "          google.colab.kernel.accessAllowed ? 'block' : 'none';\n",
              "\n",
              "        async function convertToInteractive(key) {\n",
              "          const element = document.querySelector('#df-1602d1a2-b873-4a81-9e46-9e2479f22d55');\n",
              "          const dataTable =\n",
              "            await google.colab.kernel.invokeFunction('convertToInteractive',\n",
              "                                                     [key], {});\n",
              "          if (!dataTable) return;\n",
              "\n",
              "          const docLinkHtml = 'Like what you see? Visit the ' +\n",
              "            '<a target=\"_blank\" href=https://colab.research.google.com/notebooks/data_table.ipynb>data table notebook</a>'\n",
              "            + ' to learn more about interactive tables.';\n",
              "          element.innerHTML = '';\n",
              "          dataTable['output_type'] = 'display_data';\n",
              "          await google.colab.output.renderOutput(dataTable, element);\n",
              "          const docLink = document.createElement('div');\n",
              "          docLink.innerHTML = docLinkHtml;\n",
              "          element.appendChild(docLink);\n",
              "        }\n",
              "      </script>\n",
              "    </div>\n",
              "  </div>\n",
              "  "
            ]
          },
          "metadata": {},
          "execution_count": 7
        }
      ]
    },
    {
      "cell_type": "code",
      "execution_count": 8,
      "metadata": {
        "execution": {
          "iopub.execute_input": "2021-03-23T08:39:03.606713Z",
          "iopub.status.busy": "2021-03-23T08:39:03.605985Z",
          "iopub.status.idle": "2021-03-23T08:39:03.652075Z",
          "shell.execute_reply": "2021-03-23T08:39:03.652588Z"
        },
        "papermill": {
          "duration": 0.174618,
          "end_time": "2021-03-23T08:39:03.652760",
          "exception": false,
          "start_time": "2021-03-23T08:39:03.478142",
          "status": "completed"
        },
        "tags": [],
        "colab": {
          "base_uri": "https://localhost:8080/",
          "height": 317
        },
        "id": "qGLDm8xI4vMX",
        "outputId": "e6b0f008-6687-4537-c085-49c2beeb961a"
      },
      "outputs": [
        {
          "output_type": "execute_result",
          "data": {
            "text/plain": [
              "         order_no       user_id vehicle_type  platform_type  \\\n",
              "0   Order_No_4211   User_Id_633         Bike              3   \n",
              "1  Order_No_25375  User_Id_2285         Bike              3   \n",
              "2   Order_No_1899   User_Id_265         Bike              3   \n",
              "3   Order_No_9336  User_Id_1402         Bike              3   \n",
              "4  Order_No_27883  User_Id_1737         Bike              1   \n",
              "\n",
              "  personal_or_business  placement_-_day_of_month  \\\n",
              "0             Business                         9   \n",
              "1             Personal                        12   \n",
              "2             Business                        30   \n",
              "3             Business                        15   \n",
              "4             Personal                        13   \n",
              "\n",
              "   placement_-_weekday_(mo_=_1) placement_-_time  confirmation_-_day_of_month  \\\n",
              "0                             5       9:35:46 AM                            9   \n",
              "1                             5      11:16:16 AM                           12   \n",
              "2                             2      12:39:25 PM                           30   \n",
              "3                             5       9:25:34 AM                           15   \n",
              "4                             1       9:55:18 AM                           13   \n",
              "\n",
              "   confirmation_-_weekday_(mo_=_1)  ... pickup_lat  pickup_long  \\\n",
              "0                                5  ...  -1.317755    36.830370   \n",
              "1                                5  ...  -1.351453    36.899315   \n",
              "2                                2  ...  -1.308284    36.843419   \n",
              "3                                5  ...  -1.281301    36.832396   \n",
              "4                                1  ...  -1.266597    36.792118   \n",
              "\n",
              "   destination_lat destination_long      rider_id  \\\n",
              "0        -1.300406        36.829741  Rider_Id_432   \n",
              "1        -1.295004        36.814358  Rider_Id_856   \n",
              "2        -1.300921        36.828195  Rider_Id_155   \n",
              "3        -1.257147        36.795063  Rider_Id_855   \n",
              "4        -1.295041        36.809817  Rider_Id_770   \n",
              "\n",
              "   time_from_pickup_to_arrival no_of_orders   age  average_rating  \\\n",
              "0                          745         1637  1309            13.8   \n",
              "1                         1993          396   339            13.6   \n",
              "2                          455         1023   242            12.5   \n",
              "3                         1341          886   283            14.5   \n",
              "4                         1214         2311   872            14.1   \n",
              "\n",
              "  no_of_ratings  \n",
              "0           549  \n",
              "1            69  \n",
              "2           114  \n",
              "3           113  \n",
              "4           533  \n",
              "\n",
              "[5 rows x 33 columns]"
            ],
            "text/html": [
              "\n",
              "  <div id=\"df-18aa0357-f827-4d67-9917-6660d5b3c0bf\">\n",
              "    <div class=\"colab-df-container\">\n",
              "      <div>\n",
              "<style scoped>\n",
              "    .dataframe tbody tr th:only-of-type {\n",
              "        vertical-align: middle;\n",
              "    }\n",
              "\n",
              "    .dataframe tbody tr th {\n",
              "        vertical-align: top;\n",
              "    }\n",
              "\n",
              "    .dataframe thead th {\n",
              "        text-align: right;\n",
              "    }\n",
              "</style>\n",
              "<table border=\"1\" class=\"dataframe\">\n",
              "  <thead>\n",
              "    <tr style=\"text-align: right;\">\n",
              "      <th></th>\n",
              "      <th>order_no</th>\n",
              "      <th>user_id</th>\n",
              "      <th>vehicle_type</th>\n",
              "      <th>platform_type</th>\n",
              "      <th>personal_or_business</th>\n",
              "      <th>placement_-_day_of_month</th>\n",
              "      <th>placement_-_weekday_(mo_=_1)</th>\n",
              "      <th>placement_-_time</th>\n",
              "      <th>confirmation_-_day_of_month</th>\n",
              "      <th>confirmation_-_weekday_(mo_=_1)</th>\n",
              "      <th>...</th>\n",
              "      <th>pickup_lat</th>\n",
              "      <th>pickup_long</th>\n",
              "      <th>destination_lat</th>\n",
              "      <th>destination_long</th>\n",
              "      <th>rider_id</th>\n",
              "      <th>time_from_pickup_to_arrival</th>\n",
              "      <th>no_of_orders</th>\n",
              "      <th>age</th>\n",
              "      <th>average_rating</th>\n",
              "      <th>no_of_ratings</th>\n",
              "    </tr>\n",
              "  </thead>\n",
              "  <tbody>\n",
              "    <tr>\n",
              "      <th>0</th>\n",
              "      <td>Order_No_4211</td>\n",
              "      <td>User_Id_633</td>\n",
              "      <td>Bike</td>\n",
              "      <td>3</td>\n",
              "      <td>Business</td>\n",
              "      <td>9</td>\n",
              "      <td>5</td>\n",
              "      <td>9:35:46 AM</td>\n",
              "      <td>9</td>\n",
              "      <td>5</td>\n",
              "      <td>...</td>\n",
              "      <td>-1.317755</td>\n",
              "      <td>36.830370</td>\n",
              "      <td>-1.300406</td>\n",
              "      <td>36.829741</td>\n",
              "      <td>Rider_Id_432</td>\n",
              "      <td>745</td>\n",
              "      <td>1637</td>\n",
              "      <td>1309</td>\n",
              "      <td>13.8</td>\n",
              "      <td>549</td>\n",
              "    </tr>\n",
              "    <tr>\n",
              "      <th>1</th>\n",
              "      <td>Order_No_25375</td>\n",
              "      <td>User_Id_2285</td>\n",
              "      <td>Bike</td>\n",
              "      <td>3</td>\n",
              "      <td>Personal</td>\n",
              "      <td>12</td>\n",
              "      <td>5</td>\n",
              "      <td>11:16:16 AM</td>\n",
              "      <td>12</td>\n",
              "      <td>5</td>\n",
              "      <td>...</td>\n",
              "      <td>-1.351453</td>\n",
              "      <td>36.899315</td>\n",
              "      <td>-1.295004</td>\n",
              "      <td>36.814358</td>\n",
              "      <td>Rider_Id_856</td>\n",
              "      <td>1993</td>\n",
              "      <td>396</td>\n",
              "      <td>339</td>\n",
              "      <td>13.6</td>\n",
              "      <td>69</td>\n",
              "    </tr>\n",
              "    <tr>\n",
              "      <th>2</th>\n",
              "      <td>Order_No_1899</td>\n",
              "      <td>User_Id_265</td>\n",
              "      <td>Bike</td>\n",
              "      <td>3</td>\n",
              "      <td>Business</td>\n",
              "      <td>30</td>\n",
              "      <td>2</td>\n",
              "      <td>12:39:25 PM</td>\n",
              "      <td>30</td>\n",
              "      <td>2</td>\n",
              "      <td>...</td>\n",
              "      <td>-1.308284</td>\n",
              "      <td>36.843419</td>\n",
              "      <td>-1.300921</td>\n",
              "      <td>36.828195</td>\n",
              "      <td>Rider_Id_155</td>\n",
              "      <td>455</td>\n",
              "      <td>1023</td>\n",
              "      <td>242</td>\n",
              "      <td>12.5</td>\n",
              "      <td>114</td>\n",
              "    </tr>\n",
              "    <tr>\n",
              "      <th>3</th>\n",
              "      <td>Order_No_9336</td>\n",
              "      <td>User_Id_1402</td>\n",
              "      <td>Bike</td>\n",
              "      <td>3</td>\n",
              "      <td>Business</td>\n",
              "      <td>15</td>\n",
              "      <td>5</td>\n",
              "      <td>9:25:34 AM</td>\n",
              "      <td>15</td>\n",
              "      <td>5</td>\n",
              "      <td>...</td>\n",
              "      <td>-1.281301</td>\n",
              "      <td>36.832396</td>\n",
              "      <td>-1.257147</td>\n",
              "      <td>36.795063</td>\n",
              "      <td>Rider_Id_855</td>\n",
              "      <td>1341</td>\n",
              "      <td>886</td>\n",
              "      <td>283</td>\n",
              "      <td>14.5</td>\n",
              "      <td>113</td>\n",
              "    </tr>\n",
              "    <tr>\n",
              "      <th>4</th>\n",
              "      <td>Order_No_27883</td>\n",
              "      <td>User_Id_1737</td>\n",
              "      <td>Bike</td>\n",
              "      <td>1</td>\n",
              "      <td>Personal</td>\n",
              "      <td>13</td>\n",
              "      <td>1</td>\n",
              "      <td>9:55:18 AM</td>\n",
              "      <td>13</td>\n",
              "      <td>1</td>\n",
              "      <td>...</td>\n",
              "      <td>-1.266597</td>\n",
              "      <td>36.792118</td>\n",
              "      <td>-1.295041</td>\n",
              "      <td>36.809817</td>\n",
              "      <td>Rider_Id_770</td>\n",
              "      <td>1214</td>\n",
              "      <td>2311</td>\n",
              "      <td>872</td>\n",
              "      <td>14.1</td>\n",
              "      <td>533</td>\n",
              "    </tr>\n",
              "  </tbody>\n",
              "</table>\n",
              "<p>5 rows × 33 columns</p>\n",
              "</div>\n",
              "      <button class=\"colab-df-convert\" onclick=\"convertToInteractive('df-18aa0357-f827-4d67-9917-6660d5b3c0bf')\"\n",
              "              title=\"Convert this dataframe to an interactive table.\"\n",
              "              style=\"display:none;\">\n",
              "        \n",
              "  <svg xmlns=\"http://www.w3.org/2000/svg\" height=\"24px\"viewBox=\"0 0 24 24\"\n",
              "       width=\"24px\">\n",
              "    <path d=\"M0 0h24v24H0V0z\" fill=\"none\"/>\n",
              "    <path d=\"M18.56 5.44l.94 2.06.94-2.06 2.06-.94-2.06-.94-.94-2.06-.94 2.06-2.06.94zm-11 1L8.5 8.5l.94-2.06 2.06-.94-2.06-.94L8.5 2.5l-.94 2.06-2.06.94zm10 10l.94 2.06.94-2.06 2.06-.94-2.06-.94-.94-2.06-.94 2.06-2.06.94z\"/><path d=\"M17.41 7.96l-1.37-1.37c-.4-.4-.92-.59-1.43-.59-.52 0-1.04.2-1.43.59L10.3 9.45l-7.72 7.72c-.78.78-.78 2.05 0 2.83L4 21.41c.39.39.9.59 1.41.59.51 0 1.02-.2 1.41-.59l7.78-7.78 2.81-2.81c.8-.78.8-2.07 0-2.86zM5.41 20L4 18.59l7.72-7.72 1.47 1.35L5.41 20z\"/>\n",
              "  </svg>\n",
              "      </button>\n",
              "      \n",
              "  <style>\n",
              "    .colab-df-container {\n",
              "      display:flex;\n",
              "      flex-wrap:wrap;\n",
              "      gap: 12px;\n",
              "    }\n",
              "\n",
              "    .colab-df-convert {\n",
              "      background-color: #E8F0FE;\n",
              "      border: none;\n",
              "      border-radius: 50%;\n",
              "      cursor: pointer;\n",
              "      display: none;\n",
              "      fill: #1967D2;\n",
              "      height: 32px;\n",
              "      padding: 0 0 0 0;\n",
              "      width: 32px;\n",
              "    }\n",
              "\n",
              "    .colab-df-convert:hover {\n",
              "      background-color: #E2EBFA;\n",
              "      box-shadow: 0px 1px 2px rgba(60, 64, 67, 0.3), 0px 1px 3px 1px rgba(60, 64, 67, 0.15);\n",
              "      fill: #174EA6;\n",
              "    }\n",
              "\n",
              "    [theme=dark] .colab-df-convert {\n",
              "      background-color: #3B4455;\n",
              "      fill: #D2E3FC;\n",
              "    }\n",
              "\n",
              "    [theme=dark] .colab-df-convert:hover {\n",
              "      background-color: #434B5C;\n",
              "      box-shadow: 0px 1px 3px 1px rgba(0, 0, 0, 0.15);\n",
              "      filter: drop-shadow(0px 1px 2px rgba(0, 0, 0, 0.3));\n",
              "      fill: #FFFFFF;\n",
              "    }\n",
              "  </style>\n",
              "\n",
              "      <script>\n",
              "        const buttonEl =\n",
              "          document.querySelector('#df-18aa0357-f827-4d67-9917-6660d5b3c0bf button.colab-df-convert');\n",
              "        buttonEl.style.display =\n",
              "          google.colab.kernel.accessAllowed ? 'block' : 'none';\n",
              "\n",
              "        async function convertToInteractive(key) {\n",
              "          const element = document.querySelector('#df-18aa0357-f827-4d67-9917-6660d5b3c0bf');\n",
              "          const dataTable =\n",
              "            await google.colab.kernel.invokeFunction('convertToInteractive',\n",
              "                                                     [key], {});\n",
              "          if (!dataTable) return;\n",
              "\n",
              "          const docLinkHtml = 'Like what you see? Visit the ' +\n",
              "            '<a target=\"_blank\" href=https://colab.research.google.com/notebooks/data_table.ipynb>data table notebook</a>'\n",
              "            + ' to learn more about interactive tables.';\n",
              "          element.innerHTML = '';\n",
              "          dataTable['output_type'] = 'display_data';\n",
              "          await google.colab.output.renderOutput(dataTable, element);\n",
              "          const docLink = document.createElement('div');\n",
              "          docLink.innerHTML = docLinkHtml;\n",
              "          element.appendChild(docLink);\n",
              "        }\n",
              "      </script>\n",
              "    </div>\n",
              "  </div>\n",
              "  "
            ]
          },
          "metadata": {},
          "execution_count": 8
        }
      ],
      "source": [
        "train.head()"
      ]
    },
    {
      "cell_type": "markdown",
      "source": [
        "## Data *Visualization*"
      ],
      "metadata": {
        "id": "Puy_I1j486wq"
      }
    },
    {
      "cell_type": "code",
      "execution_count": 9,
      "metadata": {
        "execution": {
          "iopub.execute_input": "2021-03-23T08:39:04.349367Z",
          "iopub.status.busy": "2021-03-23T08:39:04.348656Z",
          "iopub.status.idle": "2021-03-23T08:39:04.477486Z",
          "shell.execute_reply": "2021-03-23T08:39:04.476971Z"
        },
        "papermill": {
          "duration": 0.248431,
          "end_time": "2021-03-23T08:39:04.477640",
          "exception": false,
          "start_time": "2021-03-23T08:39:04.229209",
          "status": "completed"
        },
        "tags": [],
        "colab": {
          "base_uri": "https://localhost:8080/",
          "height": 355
        },
        "id": "mHIetuWo4vMX",
        "outputId": "9a70d6de-4a59-46d9-ffa0-6b583cbb12c1"
      },
      "outputs": [
        {
          "output_type": "display_data",
          "data": {
            "text/plain": [
              "<Figure size 720x360 with 1 Axes>"
            ],
            "image/png": "[encoded data removed]"
          },
          "metadata": {}
        }
      ],
      "source": [
        "# Calculating the outlier threshold \n",
        "mu = train['time_from_pickup_to_arrival'].mean()\n",
        "sd = train['time_from_pickup_to_arrival'].std()\n",
        "outlier_threshold = mu + 3*sd\n",
        "\n",
        "# Creating the histogram - distribution of delivery times in seconds\n",
        "sns.set()\n",
        "_ = plt.figure(figsize=(10,5))\n",
        "_ = plt.hist(train['time_from_pickup_to_arrival'], bins=70, color='blue')\n",
        "_ = plt.title('Delivery Time Distribution')\n",
        "_ = plt.xlabel('Delivery Time in Seconds')\n",
        "_ = plt.ylabel('Number of Orders')\n",
        "_ = plt.axvline(outlier_threshold, color='gray', linestyle='dashed', linewidth=1)\n"
      ]
    },
    {
      "cell_type": "markdown",
      "source": [
        "Observations:\n",
        "\n",
        "From the plot above it is clear that the delivery times are positively skewed, with the majority of orders being delivered in approximately 16 minutes.\n",
        "\n",
        "There are orders with a delivery time of 1 second which is unusual and warrants further investigation.\n",
        "\n",
        "The grey dotted line above indicates the threshold for existence of outliers (measured by the presence of values 3 standard deviations away from the mean.) A small portion of the delivery times recorded with times > 4500 seconds could be considered outliers."
      ],
      "metadata": {
        "id": "m0KwaYaq9_a-"
      }
    },
    {
      "cell_type": "code",
      "execution_count": 10,
      "metadata": {
        "execution": {
          "iopub.execute_input": "2021-03-23T08:39:05.210267Z",
          "iopub.status.busy": "2021-03-23T08:39:05.209295Z",
          "iopub.status.idle": "2021-03-23T08:39:05.224011Z",
          "shell.execute_reply": "2021-03-23T08:39:05.224652Z"
        },
        "papermill": {
          "duration": 0.165119,
          "end_time": "2021-03-23T08:39:05.224856",
          "exception": false,
          "start_time": "2021-03-23T08:39:05.059737",
          "status": "completed"
        },
        "tags": [],
        "colab": {
          "base_uri": "https://localhost:8080/",
          "height": 489
        },
        "id": "lG3-NIRd4vMY",
        "outputId": "90548d30-db4c-499f-9285-5a04aa8e3c02"
      },
      "outputs": [
        {
          "output_type": "execute_result",
          "data": {
            "text/plain": [
              "''"
            ],
            "application/vnd.google.colaboratory.intrinsic+json": {
              "type": "string"
            }
          },
          "metadata": {},
          "execution_count": 10
        },
        {
          "output_type": "display_data",
          "data": {
            "text/plain": [
              "<Figure size 1440x1080 with 25 Axes>"
            ],
            "image/png": "[encoded data removed]"
          },
          "metadata": {}
        }
      ],
      "source": [
        "# Create histograms to visulize the distribution of each feature\n",
        "sns.set()\n",
        "train.hist(bins=60, figsize=(20,15))"
      ]
    },
    {
      "cell_type": "markdown",
      "source": [
        "Observations:\n",
        "\n",
        "The majority of orders are placed using Platform 3.\n",
        "Orders and deliveries decline on weekends.\n",
        "Most orders are delivered within a 10 km radius from the Pickup location.\n",
        "Most Temperatures range between 20 and 27 degrees Celsius.\n",
        "The average driver rating is between 13 and 15.\n",
        "A large proportion of riders have no or very few ratings."
      ],
      "metadata": {
        "id": "HOJ1gpAV-jy0"
      }
    },
    {
      "cell_type": "code",
      "source": [
        "# Delivery time vs Day of the week\n",
        "sns.set()\n",
        "_ = plt.figure(figsize=(10,5))\n",
        "_ = sns.boxplot(x=train['placement_-_weekday_(mo_=_1)'], \n",
        "                y=train['time_from_pickup_to_arrival'], \n",
        "                data=train)\n",
        "\n",
        "_ = plt.title('Delivery Time vs Day of the Week')\n",
        "_ = plt.xlabel('Day of the Week')\n",
        "_ = plt.ylabel('Delivery Time in Seconds')"
      ],
      "metadata": {
        "colab": {
          "base_uri": "https://localhost:8080/",
          "height": 355
        },
        "id": "jEPi8fmY-7zP",
        "outputId": "ff4e549c-d5c7-40bd-8338-44b6819fc939"
      },
      "execution_count": 11,
      "outputs": [
        {
          "output_type": "display_data",
          "data": {
            "text/plain": [
              "<Figure size 720x360 with 1 Axes>"
            ],
            "image/png": "[encoded data removed]"
          },
          "metadata": {}
        }
      ]
    },
    {
      "cell_type": "markdown",
      "source": [
        "Observations:\n",
        "\n",
        "Delivery times during the week have the same spread from Monday to Friday with slight differences in the extremity of outliers.\n",
        "\n",
        "The delivery times during weekends have less variability and less extreme outliers. This could possibly be due to drivers experiencing less traffic over weekends."
      ],
      "metadata": {
        "id": "0RAOtMNQ_Il8"
      }
    },
    {
      "cell_type": "code",
      "source": [
        "# delivery time vs pickup hour\n",
        "\n",
        "# Create a copy of the train data to preserve original dataframe\n",
        "t = train.copy()\n",
        "\n",
        "# Convert to datetime and then convert to hour \n",
        "t['hour'] = pd.to_datetime(t['pickup_-_time']).dt.hour\n",
        "\n",
        "# Plot the boxplot for the delivery time vs pickup hour\n",
        "sns.set()\n",
        "_ = plt.figure(figsize=(10,5))\n",
        "_ = sns.boxplot(x=t['hour'], \n",
        "                y=t['time_from_pickup_to_arrival'], \n",
        "                data=t)\n",
        "\n",
        "_ = plt.title('Delivery Time vs Pickup Hour')\n",
        "_ = plt.xlabel('Pickup Hour')\n",
        "_ = plt.ylabel('Delivery Time in seconds')"
      ],
      "metadata": {
        "colab": {
          "base_uri": "https://localhost:8080/",
          "height": 355
        },
        "id": "Pk0vzifZ_YKW",
        "outputId": "a7ad5c1a-fb67-4da6-a959-1de8959a41d2"
      },
      "execution_count": 12,
      "outputs": [
        {
          "output_type": "display_data",
          "data": {
            "text/plain": [
              "<Figure size 720x360 with 1 Axes>"
            ],
            "image/png": "[encoded data removed]"
          },
          "metadata": {}
        }
      ]
    },
    {
      "cell_type": "markdown",
      "source": [
        "Observations:\n",
        "\n",
        "The slowest delivery times are experienced between 7 and 8. This corresponds to peak morning traffic.\n",
        "\n",
        "Orders picked up in the evening between 21 and 11 have the fastest delivery times since drivers will experience little to no traffic during these hours\n",
        "\n",
        "The spread of delivery time for orders picked up between 8 and 8 are similar apart from a few outliers."
      ],
      "metadata": {
        "id": "K5lV_Y3b_iuA"
      }
    },
    {
      "cell_type": "code",
      "execution_count": 13,
      "metadata": {
        "execution": {
          "iopub.execute_input": "2021-03-23T08:39:05.465593Z",
          "iopub.status.busy": "2021-03-23T08:39:05.464929Z",
          "iopub.status.idle": "2021-03-23T08:39:05.721998Z",
          "shell.execute_reply": "2021-03-23T08:39:05.722521Z"
        },
        "papermill": {
          "duration": 0.378879,
          "end_time": "2021-03-23T08:39:05.722685",
          "exception": false,
          "start_time": "2021-03-23T08:39:05.343806",
          "status": "completed"
        },
        "tags": [],
        "colab": {
          "base_uri": "https://localhost:8080/",
          "height": 675
        },
        "id": "NwZEU2h04vMY",
        "outputId": "f10deba5-53ce-4c08-f99a-452daf2bb5a5"
      },
      "outputs": [
        {
          "output_type": "execute_result",
          "data": {
            "text/plain": [
              "Text(0.5, 1.0, 'Correlation between variables in the train data')"
            ]
          },
          "metadata": {},
          "execution_count": 13
        },
        {
          "output_type": "display_data",
          "data": {
            "text/plain": [
              "<Figure size 720x720 with 2 Axes>"
            ],
            "image/png": "[encoded data removed]"
          },
          "metadata": {}
        }
      ],
      "source": [
        "#Checking for Multicolinearity\n",
        "Corr_Matrix = train.corr()\n",
        "plt.figure(figsize=(10,10))\n",
        "sns.heatmap(Corr_Matrix, vmin=-1, vmax=1, cmap='Blues', annot=False, linewidth=0.1)\n",
        "plt.title('Correlation between variables in the train data')"
      ]
    },
    {
      "cell_type": "markdown",
      "source": [
        "Observations:\n",
        "\n",
        "The day of the month and day of the week columns for the different stages in the delivery process have a strong correlation (> 0.99). This is more confirmation that the information is repetitive and can be represented by one column for the day of the month and another for the day of the week.\n",
        "\n",
        "The number of ratings and age columns are highly correlated. An option to handle this would be to employ feature engineering on these metrics or rule out linear regression due to correlation of these predictor variables. (discussed further in model selection).\n",
        "\n",
        "Precipitation is slightly correlated to temperature and day of the month"
      ],
      "metadata": {
        "id": "Vl1M_LUoAB0T"
      }
    },
    {
      "cell_type": "markdown",
      "source": [
        "# Feature Selection"
      ],
      "metadata": {
        "id": "mTLK27YIADei"
      }
    },
    {
      "cell_type": "code",
      "source": [
        "# List of all the column names to be dropped from the train and test data\n",
        "to_drop = ['order_no', \n",
        "           'user_id', \n",
        "           'vehicle_type', \n",
        "           'rider_id', \n",
        "           'confirmation_-_day_of_month', \n",
        "           'confirmation_-_weekday_(mo_=_1)', \n",
        "           'confirmation_-_time', \n",
        "           'arrival_at_pickup_-_day_of_month', \n",
        "           'arrival_at_pickup_-_weekday_(mo_=_1)', \n",
        "           'arrival_at_pickup_-_time', \n",
        "           'pickup_-_day_of_month', \n",
        "           'pickup_-_weekday_(mo_=_1)']\n",
        "\n",
        "# Columns that should be dropped from the train data only\n",
        "x_drop = ['arrival_at_destination_-_time', \n",
        "          'arrival_at_destination_-_weekday_(mo_=_1)', \n",
        "          'arrival_at_destination_-_day_of_month']\n",
        "\n",
        "# Drop from train and test\n",
        "test.drop(to_drop, axis=1, inplace=True)\n",
        "train.drop(to_drop, axis=1, inplace=True)\n",
        "train.drop(x_drop, axis=1, inplace=True)"
      ],
      "metadata": {
        "id": "Ly1Hgz15AOcI"
      },
      "execution_count": 14,
      "outputs": []
    },
    {
      "cell_type": "code",
      "source": [
        "train.info()"
      ],
      "metadata": {
        "colab": {
          "base_uri": "https://localhost:8080/"
        },
        "id": "9-zCysH9AclC",
        "outputId": "eda74aeb-47d7-40f4-830e-1c30ae37c47c"
      },
      "execution_count": 16,
      "outputs": [
        {
          "output_type": "stream",
          "name": "stdout",
          "text": [
            "<class 'pandas.core.frame.DataFrame'>\n",
            "Int64Index: 21201 entries, 0 to 21200\n",
            "Data columns (total 18 columns):\n",
            " #   Column                        Non-Null Count  Dtype  \n",
            "---  ------                        --------------  -----  \n",
            " 0   platform_type                 21201 non-null  int64  \n",
            " 1   personal_or_business          21201 non-null  object \n",
            " 2   placement_-_day_of_month      21201 non-null  int64  \n",
            " 3   placement_-_weekday_(mo_=_1)  21201 non-null  int64  \n",
            " 4   placement_-_time              21201 non-null  object \n",
            " 5   pickup_-_time                 21201 non-null  object \n",
            " 6   distance_(km)                 21201 non-null  int64  \n",
            " 7   temperature                   16835 non-null  float64\n",
            " 8   precipitation_in_millimeters  552 non-null    float64\n",
            " 9   pickup_lat                    21201 non-null  float64\n",
            " 10  pickup_long                   21201 non-null  float64\n",
            " 11  destination_lat               21201 non-null  float64\n",
            " 12  destination_long              21201 non-null  float64\n",
            " 13  time_from_pickup_to_arrival   21201 non-null  int64  \n",
            " 14  no_of_orders                  21201 non-null  int64  \n",
            " 15  age                           21201 non-null  int64  \n",
            " 16  average_rating                21201 non-null  float64\n",
            " 17  no_of_ratings                 21201 non-null  int64  \n",
            "dtypes: float64(7), int64(8), object(3)\n",
            "memory usage: 3.6+ MB\n"
          ]
        }
      ]
    },
    {
      "cell_type": "markdown",
      "source": [
        "# Feature Engineering\n"
      ],
      "metadata": {
        "id": "HV43J9I9AopJ"
      }
    },
    {
      "cell_type": "code",
      "source": [
        "# Extract the hour from the time for both the train and test datasets\n",
        "train['pickup_-_time'] = pd.to_datetime(train['pickup_-_time'])\n",
        "train['placement_-_time'] = pd.to_datetime(train['placement_-_time'])\n",
        "test['pickup_-_time'] = pd.to_datetime(test['pickup_-_time'])\n",
        "test['placement_-_time'] = pd.to_datetime(test['placement_-_time'])\n",
        "\n",
        "# Calculate the waiting time\n",
        "train['waiting_time'] = train['pickup_-_time'] - train['placement_-_time']\n",
        "test['waiting_time'] = test['pickup_-_time'] - test['placement_-_time']\n",
        "\n",
        "# Convert waiting time from time_delta to seconds \n",
        "train['waiting_time'] = train['waiting_time'].astype('timedelta64[s]')\n",
        "test['waiting_time'] = test['waiting_time'].astype('timedelta64[s]')\n"
      ],
      "metadata": {
        "id": "rhB5FnBAAzX4"
      },
      "execution_count": 17,
      "outputs": []
    },
    {
      "cell_type": "markdown",
      "source": [
        "## Cyclical Features"
      ],
      "metadata": {
        "id": "hxp15zdmBfLA"
      }
    },
    {
      "cell_type": "markdown",
      "source": [
        "Time, days of the week and days of the month are all cyclical features and should be interpreted by machine learning models accordingly.\n"
      ],
      "metadata": {
        "id": "jcD22jC_BnCX"
      }
    },
    {
      "cell_type": "code",
      "source": [
        "# Convert the day of the month to a cyclical feature\n",
        "\n",
        "# Train\n",
        "train['month_sin'] = np.sin((train['placement_-_day_of_month']-1)*(2.*np.pi/30.5))\n",
        "train['month_cos'] = np.cos((train['placement_-_day_of_month']-1)*(2.*np.pi/30.5))\n",
        "\n",
        "# Test\n",
        "test['month_sin'] = np.sin((test['placement_-_day_of_month']-1)*(2.*np.pi/30.5))\n",
        "test['month_cos'] = np.cos((test['placement_-_day_of_month']-1)*(2.*np.pi/30.5))"
      ],
      "metadata": {
        "id": "jMzbc9HbBqbz"
      },
      "execution_count": 18,
      "outputs": []
    },
    {
      "cell_type": "code",
      "source": [
        "# Convert the weekday to a cyclical feature\n",
        "\n",
        "# Train\n",
        "train['day_sin'] = np.sin((train['placement_-_weekday_(mo_=_1)']-1)*(2.*np.pi/7))\n",
        "train['day_cos'] = np.cos((train['placement_-_weekday_(mo_=_1)']-1)*(2.*np.pi/7))\n",
        "\n",
        "# Test\n",
        "test['day_sin'] = np.sin((test['placement_-_weekday_(mo_=_1)']-1)*(2.*np.pi/7))\n",
        "test['day_cos'] = np.cos((test['placement_-_weekday_(mo_=_1)']-1)*(2.*np.pi/7))"
      ],
      "metadata": {
        "id": "bPBYXCk-BwU4"
      },
      "execution_count": 19,
      "outputs": []
    },
    {
      "cell_type": "code",
      "source": [
        "# Convert the pickup time to date_time format and extracting the hour\n",
        "train['pickup_-_time'] = pd.to_datetime(train['pickup_-_time']).dt.hour\n",
        "test['pickup_-_time'] = pd.to_datetime(test['pickup_-_time']).dt.hour\n",
        "\n",
        "# Convert pickup time to cyclical feature\n",
        "\n",
        "# Train\n",
        "train['hr_sin'] = np.sin(train['pickup_-_time']*(2.*np.pi/24))\n",
        "train['hr_cos'] = np.cos(train['pickup_-_time']*(2.*np.pi/24))\n",
        "\n",
        "# Test\n",
        "test['hr_sin'] = np.sin(test['pickup_-_time']*(2.*np.pi/24))\n",
        "test['hr_cos'] = np.cos(test['pickup_-_time']*(2.*np.pi/24))"
      ],
      "metadata": {
        "id": "xAqYgu85B0Mn"
      },
      "execution_count": 20,
      "outputs": []
    },
    {
      "cell_type": "code",
      "source": [
        "# List of column names to drop\n",
        "drop = ['placement_-_time', \n",
        "        'pickup_-_time',\n",
        "        'placement_-_weekday_(mo_=_1)', \n",
        "        'placement_-_day_of_month']\n",
        "\n",
        "# Drop columns\n",
        "test.drop(drop, axis=1, inplace=True)\n",
        "train.drop(drop, axis=1, inplace=True)"
      ],
      "metadata": {
        "id": "RKCxkZyjB44Y"
      },
      "execution_count": 21,
      "outputs": []
    },
    {
      "cell_type": "code",
      "source": [
        "train.info()"
      ],
      "metadata": {
        "colab": {
          "base_uri": "https://localhost:8080/"
        },
        "id": "KhUCajfHB9W-",
        "outputId": "6869a06a-3058-45bc-e0ed-44a79a4b66f5"
      },
      "execution_count": 22,
      "outputs": [
        {
          "output_type": "stream",
          "name": "stdout",
          "text": [
            "<class 'pandas.core.frame.DataFrame'>\n",
            "Int64Index: 21201 entries, 0 to 21200\n",
            "Data columns (total 21 columns):\n",
            " #   Column                        Non-Null Count  Dtype  \n",
            "---  ------                        --------------  -----  \n",
            " 0   platform_type                 21201 non-null  int64  \n",
            " 1   personal_or_business          21201 non-null  object \n",
            " 2   distance_(km)                 21201 non-null  int64  \n",
            " 3   temperature                   16835 non-null  float64\n",
            " 4   precipitation_in_millimeters  552 non-null    float64\n",
            " 5   pickup_lat                    21201 non-null  float64\n",
            " 6   pickup_long                   21201 non-null  float64\n",
            " 7   destination_lat               21201 non-null  float64\n",
            " 8   destination_long              21201 non-null  float64\n",
            " 9   time_from_pickup_to_arrival   21201 non-null  int64  \n",
            " 10  no_of_orders                  21201 non-null  int64  \n",
            " 11  age                           21201 non-null  int64  \n",
            " 12  average_rating                21201 non-null  float64\n",
            " 13  no_of_ratings                 21201 non-null  int64  \n",
            " 14  waiting_time                  21201 non-null  float64\n",
            " 15  month_sin                     21201 non-null  float64\n",
            " 16  month_cos                     21201 non-null  float64\n",
            " 17  day_sin                       21201 non-null  float64\n",
            " 18  day_cos                       21201 non-null  float64\n",
            " 19  hr_sin                        21201 non-null  float64\n",
            " 20  hr_cos                        21201 non-null  float64\n",
            "dtypes: float64(14), int64(6), object(1)\n",
            "memory usage: 4.1+ MB\n"
          ]
        }
      ]
    },
    {
      "cell_type": "markdown",
      "metadata": {
        "papermill": {
          "duration": 0.208769,
          "end_time": "2021-03-23T08:39:38.925165",
          "exception": false,
          "start_time": "2021-03-23T08:39:38.716396",
          "status": "completed"
        },
        "tags": [],
        "id": "jmgLygUH4vMe"
      },
      "source": [
        "# Data Preparation and Further Clean up"
      ]
    },
    {
      "cell_type": "code",
      "source": [
        "#Imputation of Missing Values\n",
        "# Check % null values for precipitation\n",
        "prec_nulls_perc_train = round((train['precipitation_in_millimeters'].isnull().sum()*100)/len(train),2)\n",
        "prec_nulls_perc_test = round((test['precipitation_in_millimeters'].isnull().sum()*100)/len(test),2)\n",
        "\n",
        "print(round(prec_nulls_perc_train))\n",
        "print(round(prec_nulls_perc_train))\n"
      ],
      "metadata": {
        "id": "dnqV2r5GMEOR",
        "colab": {
          "base_uri": "https://localhost:8080/"
        },
        "outputId": "7c227daa-e0ad-452e-d1c2-c7439eef4031"
      },
      "execution_count": 23,
      "outputs": [
        {
          "output_type": "stream",
          "name": "stdout",
          "text": [
            "97\n",
            "97\n"
          ]
        }
      ]
    },
    {
      "cell_type": "code",
      "source": [
        "# Fill precipitation null values with 0\n",
        "train['precipitation_in_millimeters'].fillna(0,inplace=True)\n",
        "test['precipitation_in_millimeters'].fillna(0,inplace=True)"
      ],
      "metadata": {
        "id": "YHz4qXUuCdVX"
      },
      "execution_count": 24,
      "outputs": []
    },
    {
      "cell_type": "code",
      "execution_count": 25,
      "metadata": {
        "execution": {
          "iopub.execute_input": "2021-03-23T08:39:40.167734Z",
          "iopub.status.busy": "2021-03-23T08:39:40.166744Z",
          "iopub.status.idle": "2021-03-23T08:39:40.212326Z",
          "shell.execute_reply": "2021-03-23T08:39:40.212822Z"
        },
        "papermill": {
          "duration": 0.244868,
          "end_time": "2021-03-23T08:39:40.213019",
          "exception": false,
          "start_time": "2021-03-23T08:39:39.968151",
          "status": "completed"
        },
        "tags": [],
        "id": "4BczRcFA4vMe"
      },
      "outputs": [],
      "source": [
        "# Replace Null values in the temperature column with the average value \n",
        "imputer_temp = SimpleImputer(missing_values=np.NaN, strategy='mean')\n",
        "imputer_temp_1 = SimpleImputer(missing_values=np.NaN, strategy='mean')\n",
        "\n",
        "# Train \n",
        "imputer_temp.fit(train.iloc[:,2:4])\n",
        "train.iloc[:,2:4] = imputer_temp.transform(train.iloc[:,2:4])\n",
        "\n",
        "# Test\n",
        "imputer_temp_1.fit(test.iloc[:,2:4])\n",
        "test.iloc[:,2:4] = imputer_temp_1.transform(test.iloc[:,2:4])"
      ]
    },
    {
      "cell_type": "code",
      "source": [
        "train.info()"
      ],
      "metadata": {
        "id": "RHQu9zVsMP2U",
        "colab": {
          "base_uri": "https://localhost:8080/"
        },
        "outputId": "0d8e4903-c1ba-434e-93d3-d11380f9b9f1"
      },
      "execution_count": 26,
      "outputs": [
        {
          "output_type": "stream",
          "name": "stdout",
          "text": [
            "<class 'pandas.core.frame.DataFrame'>\n",
            "Int64Index: 21201 entries, 0 to 21200\n",
            "Data columns (total 21 columns):\n",
            " #   Column                        Non-Null Count  Dtype  \n",
            "---  ------                        --------------  -----  \n",
            " 0   platform_type                 21201 non-null  int64  \n",
            " 1   personal_or_business          21201 non-null  object \n",
            " 2   distance_(km)                 21201 non-null  float64\n",
            " 3   temperature                   21201 non-null  float64\n",
            " 4   precipitation_in_millimeters  21201 non-null  float64\n",
            " 5   pickup_lat                    21201 non-null  float64\n",
            " 6   pickup_long                   21201 non-null  float64\n",
            " 7   destination_lat               21201 non-null  float64\n",
            " 8   destination_long              21201 non-null  float64\n",
            " 9   time_from_pickup_to_arrival   21201 non-null  int64  \n",
            " 10  no_of_orders                  21201 non-null  int64  \n",
            " 11  age                           21201 non-null  int64  \n",
            " 12  average_rating                21201 non-null  float64\n",
            " 13  no_of_ratings                 21201 non-null  int64  \n",
            " 14  waiting_time                  21201 non-null  float64\n",
            " 15  month_sin                     21201 non-null  float64\n",
            " 16  month_cos                     21201 non-null  float64\n",
            " 17  day_sin                       21201 non-null  float64\n",
            " 18  day_cos                       21201 non-null  float64\n",
            " 19  hr_sin                        21201 non-null  float64\n",
            " 20  hr_cos                        21201 non-null  float64\n",
            "dtypes: float64(15), int64(5), object(1)\n",
            "memory usage: 4.1+ MB\n"
          ]
        }
      ]
    },
    {
      "cell_type": "code",
      "source": [
        "# Convert the 'platform type' data type to category\n",
        "train['platform_type'] = train['platform_type'].astype('category')\n",
        "test['platform_type'] = test['platform_type'].astype('category')\n",
        "\n",
        "# Encode categorical data\n",
        "train = pd.get_dummies(train, drop_first=True)\n",
        "test = pd.get_dummies(test, drop_first=True)"
      ],
      "metadata": {
        "id": "PqoQ1Xqe_KP1"
      },
      "execution_count": 27,
      "outputs": []
    },
    {
      "cell_type": "code",
      "source": [
        "test.head()"
      ],
      "metadata": {
        "colab": {
          "base_uri": "https://localhost:8080/",
          "height": 300
        },
        "id": "mZp4slcIDcNH",
        "outputId": "8db3b165-b7d2-4f99-9114-8f7378214697"
      },
      "execution_count": 28,
      "outputs": [
        {
          "output_type": "execute_result",
          "data": {
            "text/plain": [
              "   distance_(km)  temperature  precipitation_in_millimeters  pickup_lat  \\\n",
              "0            8.0     23.24612                           0.0   -1.333275   \n",
              "1            5.0     23.24612                           0.0   -1.272639   \n",
              "2            5.0     22.80000                           0.0   -1.290894   \n",
              "3            5.0     24.50000                           0.0   -1.290503   \n",
              "4            6.0     24.40000                           0.0   -1.281081   \n",
              "\n",
              "   pickup_long  destination_lat  destination_long  no_of_orders   age  \\\n",
              "0    36.870815        -1.305249         36.822390           439  1511   \n",
              "1    36.794723        -1.277007         36.823907           488   273   \n",
              "2    36.822971        -1.276574         36.851365           833   460   \n",
              "3    36.809646        -1.303382         36.790658           487   560   \n",
              "4    36.814423        -1.266467         36.792161          4761  1120   \n",
              "\n",
              "   average_rating  ...  month_sin  month_cos   day_sin   day_cos    hr_sin  \\\n",
              "0            13.3  ...  -0.799839   0.600214  0.974928 -0.222521 -0.965926   \n",
              "1            14.4  ...  -0.153891  -0.988088 -0.433884 -0.900969 -0.258819   \n",
              "2            13.1  ...  -0.799839   0.600214  0.433884 -0.900969  0.258819   \n",
              "3            13.7  ...  -0.153891  -0.988088  0.000000  1.000000 -0.500000   \n",
              "4            14.1  ...   0.882679  -0.469977  0.781831  0.623490  0.258819   \n",
              "\n",
              "     hr_cos  platform_type_2  platform_type_3  platform_type_4  \\\n",
              "0 -0.258819                0                1                0   \n",
              "1 -0.965926                0                1                0   \n",
              "2 -0.965926                0                1                0   \n",
              "3 -0.866025                0                1                0   \n",
              "4 -0.965926                0                1                0   \n",
              "\n",
              "   personal_or_business_Personal  \n",
              "0                              0  \n",
              "1                              0  \n",
              "2                              0  \n",
              "3                              0  \n",
              "4                              0  \n",
              "\n",
              "[5 rows x 22 columns]"
            ],
            "text/html": [
              "\n",
              "  <div id=\"df-4a35b67a-2931-4c77-a21e-b4068cc48167\">\n",
              "    <div class=\"colab-df-container\">\n",
              "      <div>\n",
              "<style scoped>\n",
              "    .dataframe tbody tr th:only-of-type {\n",
              "        vertical-align: middle;\n",
              "    }\n",
              "\n",
              "    .dataframe tbody tr th {\n",
              "        vertical-align: top;\n",
              "    }\n",
              "\n",
              "    .dataframe thead th {\n",
              "        text-align: right;\n",
              "    }\n",
              "</style>\n",
              "<table border=\"1\" class=\"dataframe\">\n",
              "  <thead>\n",
              "    <tr style=\"text-align: right;\">\n",
              "      <th></th>\n",
              "      <th>distance_(km)</th>\n",
              "      <th>temperature</th>\n",
              "      <th>precipitation_in_millimeters</th>\n",
              "      <th>pickup_lat</th>\n",
              "      <th>pickup_long</th>\n",
              "      <th>destination_lat</th>\n",
              "      <th>destination_long</th>\n",
              "      <th>no_of_orders</th>\n",
              "      <th>age</th>\n",
              "      <th>average_rating</th>\n",
              "      <th>...</th>\n",
              "      <th>month_sin</th>\n",
              "      <th>month_cos</th>\n",
              "      <th>day_sin</th>\n",
              "      <th>day_cos</th>\n",
              "      <th>hr_sin</th>\n",
              "      <th>hr_cos</th>\n",
              "      <th>platform_type_2</th>\n",
              "      <th>platform_type_3</th>\n",
              "      <th>platform_type_4</th>\n",
              "      <th>personal_or_business_Personal</th>\n",
              "    </tr>\n",
              "  </thead>\n",
              "  <tbody>\n",
              "    <tr>\n",
              "      <th>0</th>\n",
              "      <td>8.0</td>\n",
              "      <td>23.24612</td>\n",
              "      <td>0.0</td>\n",
              "      <td>-1.333275</td>\n",
              "      <td>36.870815</td>\n",
              "      <td>-1.305249</td>\n",
              "      <td>36.822390</td>\n",
              "      <td>439</td>\n",
              "      <td>1511</td>\n",
              "      <td>13.3</td>\n",
              "      <td>...</td>\n",
              "      <td>-0.799839</td>\n",
              "      <td>0.600214</td>\n",
              "      <td>0.974928</td>\n",
              "      <td>-0.222521</td>\n",
              "      <td>-0.965926</td>\n",
              "      <td>-0.258819</td>\n",
              "      <td>0</td>\n",
              "      <td>1</td>\n",
              "      <td>0</td>\n",
              "      <td>0</td>\n",
              "    </tr>\n",
              "    <tr>\n",
              "      <th>1</th>\n",
              "      <td>5.0</td>\n",
              "      <td>23.24612</td>\n",
              "      <td>0.0</td>\n",
              "      <td>-1.272639</td>\n",
              "      <td>36.794723</td>\n",
              "      <td>-1.277007</td>\n",
              "      <td>36.823907</td>\n",
              "      <td>488</td>\n",
              "      <td>273</td>\n",
              "      <td>14.4</td>\n",
              "      <td>...</td>\n",
              "      <td>-0.153891</td>\n",
              "      <td>-0.988088</td>\n",
              "      <td>-0.433884</td>\n",
              "      <td>-0.900969</td>\n",
              "      <td>-0.258819</td>\n",
              "      <td>-0.965926</td>\n",
              "      <td>0</td>\n",
              "      <td>1</td>\n",
              "      <td>0</td>\n",
              "      <td>0</td>\n",
              "    </tr>\n",
              "    <tr>\n",
              "      <th>2</th>\n",
              "      <td>5.0</td>\n",
              "      <td>22.80000</td>\n",
              "      <td>0.0</td>\n",
              "      <td>-1.290894</td>\n",
              "      <td>36.822971</td>\n",
              "      <td>-1.276574</td>\n",
              "      <td>36.851365</td>\n",
              "      <td>833</td>\n",
              "      <td>460</td>\n",
              "      <td>13.1</td>\n",
              "      <td>...</td>\n",
              "      <td>-0.799839</td>\n",
              "      <td>0.600214</td>\n",
              "      <td>0.433884</td>\n",
              "      <td>-0.900969</td>\n",
              "      <td>0.258819</td>\n",
              "      <td>-0.965926</td>\n",
              "      <td>0</td>\n",
              "      <td>1</td>\n",
              "      <td>0</td>\n",
              "      <td>0</td>\n",
              "    </tr>\n",
              "    <tr>\n",
              "      <th>3</th>\n",
              "      <td>5.0</td>\n",
              "      <td>24.50000</td>\n",
              "      <td>0.0</td>\n",
              "      <td>-1.290503</td>\n",
              "      <td>36.809646</td>\n",
              "      <td>-1.303382</td>\n",
              "      <td>36.790658</td>\n",
              "      <td>487</td>\n",
              "      <td>560</td>\n",
              "      <td>13.7</td>\n",
              "      <td>...</td>\n",
              "      <td>-0.153891</td>\n",
              "      <td>-0.988088</td>\n",
              "      <td>0.000000</td>\n",
              "      <td>1.000000</td>\n",
              "      <td>-0.500000</td>\n",
              "      <td>-0.866025</td>\n",
              "      <td>0</td>\n",
              "      <td>1</td>\n",
              "      <td>0</td>\n",
              "      <td>0</td>\n",
              "    </tr>\n",
              "    <tr>\n",
              "      <th>4</th>\n",
              "      <td>6.0</td>\n",
              "      <td>24.40000</td>\n",
              "      <td>0.0</td>\n",
              "      <td>-1.281081</td>\n",
              "      <td>36.814423</td>\n",
              "      <td>-1.266467</td>\n",
              "      <td>36.792161</td>\n",
              "      <td>4761</td>\n",
              "      <td>1120</td>\n",
              "      <td>14.1</td>\n",
              "      <td>...</td>\n",
              "      <td>0.882679</td>\n",
              "      <td>-0.469977</td>\n",
              "      <td>0.781831</td>\n",
              "      <td>0.623490</td>\n",
              "      <td>0.258819</td>\n",
              "      <td>-0.965926</td>\n",
              "      <td>0</td>\n",
              "      <td>1</td>\n",
              "      <td>0</td>\n",
              "      <td>0</td>\n",
              "    </tr>\n",
              "  </tbody>\n",
              "</table>\n",
              "<p>5 rows × 22 columns</p>\n",
              "</div>\n",
              "      <button class=\"colab-df-convert\" onclick=\"convertToInteractive('df-4a35b67a-2931-4c77-a21e-b4068cc48167')\"\n",
              "              title=\"Convert this dataframe to an interactive table.\"\n",
              "              style=\"display:none;\">\n",
              "        \n",
              "  <svg xmlns=\"http://www.w3.org/2000/svg\" height=\"24px\"viewBox=\"0 0 24 24\"\n",
              "       width=\"24px\">\n",
              "    <path d=\"M0 0h24v24H0V0z\" fill=\"none\"/>\n",
              "    <path d=\"M18.56 5.44l.94 2.06.94-2.06 2.06-.94-2.06-.94-.94-2.06-.94 2.06-2.06.94zm-11 1L8.5 8.5l.94-2.06 2.06-.94-2.06-.94L8.5 2.5l-.94 2.06-2.06.94zm10 10l.94 2.06.94-2.06 2.06-.94-2.06-.94-.94-2.06-.94 2.06-2.06.94z\"/><path d=\"M17.41 7.96l-1.37-1.37c-.4-.4-.92-.59-1.43-.59-.52 0-1.04.2-1.43.59L10.3 9.45l-7.72 7.72c-.78.78-.78 2.05 0 2.83L4 21.41c.39.39.9.59 1.41.59.51 0 1.02-.2 1.41-.59l7.78-7.78 2.81-2.81c.8-.78.8-2.07 0-2.86zM5.41 20L4 18.59l7.72-7.72 1.47 1.35L5.41 20z\"/>\n",
              "  </svg>\n",
              "      </button>\n",
              "      \n",
              "  <style>\n",
              "    .colab-df-container {\n",
              "      display:flex;\n",
              "      flex-wrap:wrap;\n",
              "      gap: 12px;\n",
              "    }\n",
              "\n",
              "    .colab-df-convert {\n",
              "      background-color: #E8F0FE;\n",
              "      border: none;\n",
              "      border-radius: 50%;\n",
              "      cursor: pointer;\n",
              "      display: none;\n",
              "      fill: #1967D2;\n",
              "      height: 32px;\n",
              "      padding: 0 0 0 0;\n",
              "      width: 32px;\n",
              "    }\n",
              "\n",
              "    .colab-df-convert:hover {\n",
              "      background-color: #E2EBFA;\n",
              "      box-shadow: 0px 1px 2px rgba(60, 64, 67, 0.3), 0px 1px 3px 1px rgba(60, 64, 67, 0.15);\n",
              "      fill: #174EA6;\n",
              "    }\n",
              "\n",
              "    [theme=dark] .colab-df-convert {\n",
              "      background-color: #3B4455;\n",
              "      fill: #D2E3FC;\n",
              "    }\n",
              "\n",
              "    [theme=dark] .colab-df-convert:hover {\n",
              "      background-color: #434B5C;\n",
              "      box-shadow: 0px 1px 3px 1px rgba(0, 0, 0, 0.15);\n",
              "      filter: drop-shadow(0px 1px 2px rgba(0, 0, 0, 0.3));\n",
              "      fill: #FFFFFF;\n",
              "    }\n",
              "  </style>\n",
              "\n",
              "      <script>\n",
              "        const buttonEl =\n",
              "          document.querySelector('#df-4a35b67a-2931-4c77-a21e-b4068cc48167 button.colab-df-convert');\n",
              "        buttonEl.style.display =\n",
              "          google.colab.kernel.accessAllowed ? 'block' : 'none';\n",
              "\n",
              "        async function convertToInteractive(key) {\n",
              "          const element = document.querySelector('#df-4a35b67a-2931-4c77-a21e-b4068cc48167');\n",
              "          const dataTable =\n",
              "            await google.colab.kernel.invokeFunction('convertToInteractive',\n",
              "                                                     [key], {});\n",
              "          if (!dataTable) return;\n",
              "\n",
              "          const docLinkHtml = 'Like what you see? Visit the ' +\n",
              "            '<a target=\"_blank\" href=https://colab.research.google.com/notebooks/data_table.ipynb>data table notebook</a>'\n",
              "            + ' to learn more about interactive tables.';\n",
              "          element.innerHTML = '';\n",
              "          dataTable['output_type'] = 'display_data';\n",
              "          await google.colab.output.renderOutput(dataTable, element);\n",
              "          const docLink = document.createElement('div');\n",
              "          docLink.innerHTML = docLinkHtml;\n",
              "          element.appendChild(docLink);\n",
              "        }\n",
              "      </script>\n",
              "    </div>\n",
              "  </div>\n",
              "  "
            ]
          },
          "metadata": {},
          "execution_count": 28
        }
      ]
    },
    {
      "cell_type": "markdown",
      "source": [
        "## Split Train Data into Train and Test sets"
      ],
      "metadata": {
        "id": "5BmY1nhYD-kM"
      }
    },
    {
      "cell_type": "code",
      "source": [
        "# Seperate the features and target variables\n",
        "X = train.copy()\n",
        "X.drop('time_from_pickup_to_arrival', axis=1, inplace=True)\n",
        "y = train['time_from_pickup_to_arrival']\n",
        "\n",
        "# Split the data in a test and train set\n",
        "X_train, X_test, y_train, y_test=train_test_split(X, y, test_size=0.2, random_state=101 )\n"
      ],
      "metadata": {
        "id": "DtcOxgbiDqbI"
      },
      "execution_count": 30,
      "outputs": []
    },
    {
      "cell_type": "markdown",
      "source": [
        "## Feature Scaling/Normalization"
      ],
      "metadata": {
        "id": "wpDWxsIxEBMI"
      }
    },
    {
      "cell_type": "code",
      "source": [
        "# Initialise variables to be scaled \n",
        "X_train_s = X_train.copy()\n",
        "X_test_s = X_test.copy()\n",
        "test_s = test.copy()\n",
        "\n",
        "# List of column names with variables that should be scaled\n",
        "col_names = ['distance_(km)', \n",
        "             'temperature', \n",
        "             'precipitation_in_millimeters',\n",
        "             'pickup_lat', \n",
        "             'pickup_long', \n",
        "             'destination_lat', \n",
        "             'destination_long',\n",
        "             'no_of_orders', \n",
        "             'age', \n",
        "             'average_rating', \n",
        "             'no_of_ratings',\n",
        "             'waiting_time', \n",
        "             'month_sin', \n",
        "             'month_cos', \n",
        "             'day_sin', \n",
        "             'day_cos',\n",
        "             'hr_sin', \n",
        "             'hr_cos']\n",
        "\n",
        "# X_Train data\n",
        "train_features = X_train_s[col_names]\n",
        "train_scaler = StandardScaler().fit(train_features.values)\n",
        "train_features = train_scaler.transform(train_features.values)\n",
        "X_train_s[col_names] = train_features\n",
        "\n",
        "# X_Test data (validation set)\n",
        "X_test_features = X_test_s[col_names]\n",
        "X_test_features = train_scaler.fit_transform(X_test_features.values)\n",
        "X_test_s[col_names] = X_test_features\n",
        "\n",
        "# Test data (Zindi Test set)\n",
        "test_features = test_s[col_names]\n",
        "test_features = train_scaler.fit_transform(test_features.values)\n",
        "test_s[col_names] = test_features\n",
        "\n",
        "test_s.head()"
      ],
      "metadata": {
        "colab": {
          "base_uri": "https://localhost:8080/",
          "height": 300
        },
        "id": "LnL4zzskEHMB",
        "outputId": "926f0980-c5c0-45bf-e843-d0fead70e32d"
      },
      "execution_count": 31,
      "outputs": [
        {
          "output_type": "execute_result",
          "data": {
            "text/plain": [
              "   distance_(km)  temperature  precipitation_in_millimeters  pickup_lat  \\\n",
              "0      -0.261685     0.000000                     -0.071986   -1.705347   \n",
              "1      -0.799773     0.000000                     -0.071986    0.313017   \n",
              "2      -0.799773    -0.139191                     -0.071986   -0.294630   \n",
              "3      -0.799773     0.391215                     -0.071986   -0.281625   \n",
              "4      -0.620410     0.360014                     -0.071986    0.032021   \n",
              "\n",
              "   pickup_long  destination_lat  destination_long  no_of_orders       age  \\\n",
              "0     1.571875        -0.671685          0.254311     -0.784681  0.762630   \n",
              "1    -0.432695         0.153311          0.289179     -0.754597 -1.079228   \n",
              "2     0.311474         0.165960          0.920333     -0.542775 -0.801015   \n",
              "3    -0.039556        -0.617144         -0.475089     -0.755211 -0.652238   \n",
              "4     0.086282         0.461188         -0.440536      1.868924  0.180913   \n",
              "\n",
              "   average_rating  ...  month_sin  month_cos   day_sin   day_cos    hr_sin  \\\n",
              "0       -0.689113  ...  -1.180484   0.848738  1.213417 -0.162228 -1.451525   \n",
              "1        0.610704  ...  -0.270503  -1.409575 -1.156449 -1.059014 -0.168206   \n",
              "2       -0.925443  ...  -1.180484   0.848738  0.303287 -1.059014  0.771249   \n",
              "3       -0.216452  ...  -0.270503  -1.409575 -0.426581  1.453725 -0.605922   \n",
              "4        0.256208  ...   1.189764  -0.672903  0.888595  0.956046  0.771249   \n",
              "\n",
              "     hr_cos  platform_type_2  platform_type_3  platform_type_4  \\\n",
              "0  2.060800                0                1                0   \n",
              "1 -0.745803                0                1                0   \n",
              "2 -0.745803                0                1                0   \n",
              "3 -0.349285                0                1                0   \n",
              "4 -0.745803                0                1                0   \n",
              "\n",
              "   personal_or_business_Personal  \n",
              "0                              0  \n",
              "1                              0  \n",
              "2                              0  \n",
              "3                              0  \n",
              "4                              0  \n",
              "\n",
              "[5 rows x 22 columns]"
            ],
            "text/html": [
              "\n",
              "  <div id=\"df-6cb47c84-56b6-401c-a1af-a7945037dddf\">\n",
              "    <div class=\"colab-df-container\">\n",
              "      <div>\n",
              "<style scoped>\n",
              "    .dataframe tbody tr th:only-of-type {\n",
              "        vertical-align: middle;\n",
              "    }\n",
              "\n",
              "    .dataframe tbody tr th {\n",
              "        vertical-align: top;\n",
              "    }\n",
              "\n",
              "    .dataframe thead th {\n",
              "        text-align: right;\n",
              "    }\n",
              "</style>\n",
              "<table border=\"1\" class=\"dataframe\">\n",
              "  <thead>\n",
              "    <tr style=\"text-align: right;\">\n",
              "      <th></th>\n",
              "      <th>distance_(km)</th>\n",
              "      <th>temperature</th>\n",
              "      <th>precipitation_in_millimeters</th>\n",
              "      <th>pickup_lat</th>\n",
              "      <th>pickup_long</th>\n",
              "      <th>destination_lat</th>\n",
              "      <th>destination_long</th>\n",
              "      <th>no_of_orders</th>\n",
              "      <th>age</th>\n",
              "      <th>average_rating</th>\n",
              "      <th>...</th>\n",
              "      <th>month_sin</th>\n",
              "      <th>month_cos</th>\n",
              "      <th>day_sin</th>\n",
              "      <th>day_cos</th>\n",
              "      <th>hr_sin</th>\n",
              "      <th>hr_cos</th>\n",
              "      <th>platform_type_2</th>\n",
              "      <th>platform_type_3</th>\n",
              "      <th>platform_type_4</th>\n",
              "      <th>personal_or_business_Personal</th>\n",
              "    </tr>\n",
              "  </thead>\n",
              "  <tbody>\n",
              "    <tr>\n",
              "      <th>0</th>\n",
              "      <td>-0.261685</td>\n",
              "      <td>0.000000</td>\n",
              "      <td>-0.071986</td>\n",
              "      <td>-1.705347</td>\n",
              "      <td>1.571875</td>\n",
              "      <td>-0.671685</td>\n",
              "      <td>0.254311</td>\n",
              "      <td>-0.784681</td>\n",
              "      <td>0.762630</td>\n",
              "      <td>-0.689113</td>\n",
              "      <td>...</td>\n",
              "      <td>-1.180484</td>\n",
              "      <td>0.848738</td>\n",
              "      <td>1.213417</td>\n",
              "      <td>-0.162228</td>\n",
              "      <td>-1.451525</td>\n",
              "      <td>2.060800</td>\n",
              "      <td>0</td>\n",
              "      <td>1</td>\n",
              "      <td>0</td>\n",
              "      <td>0</td>\n",
              "    </tr>\n",
              "    <tr>\n",
              "      <th>1</th>\n",
              "      <td>-0.799773</td>\n",
              "      <td>0.000000</td>\n",
              "      <td>-0.071986</td>\n",
              "      <td>0.313017</td>\n",
              "      <td>-0.432695</td>\n",
              "      <td>0.153311</td>\n",
              "      <td>0.289179</td>\n",
              "      <td>-0.754597</td>\n",
              "      <td>-1.079228</td>\n",
              "      <td>0.610704</td>\n",
              "      <td>...</td>\n",
              "      <td>-0.270503</td>\n",
              "      <td>-1.409575</td>\n",
              "      <td>-1.156449</td>\n",
              "      <td>-1.059014</td>\n",
              "      <td>-0.168206</td>\n",
              "      <td>-0.745803</td>\n",
              "      <td>0</td>\n",
              "      <td>1</td>\n",
              "      <td>0</td>\n",
              "      <td>0</td>\n",
              "    </tr>\n",
              "    <tr>\n",
              "      <th>2</th>\n",
              "      <td>-0.799773</td>\n",
              "      <td>-0.139191</td>\n",
              "      <td>-0.071986</td>\n",
              "      <td>-0.294630</td>\n",
              "      <td>0.311474</td>\n",
              "      <td>0.165960</td>\n",
              "      <td>0.920333</td>\n",
              "      <td>-0.542775</td>\n",
              "      <td>-0.801015</td>\n",
              "      <td>-0.925443</td>\n",
              "      <td>...</td>\n",
              "      <td>-1.180484</td>\n",
              "      <td>0.848738</td>\n",
              "      <td>0.303287</td>\n",
              "      <td>-1.059014</td>\n",
              "      <td>0.771249</td>\n",
              "      <td>-0.745803</td>\n",
              "      <td>0</td>\n",
              "      <td>1</td>\n",
              "      <td>0</td>\n",
              "      <td>0</td>\n",
              "    </tr>\n",
              "    <tr>\n",
              "      <th>3</th>\n",
              "      <td>-0.799773</td>\n",
              "      <td>0.391215</td>\n",
              "      <td>-0.071986</td>\n",
              "      <td>-0.281625</td>\n",
              "      <td>-0.039556</td>\n",
              "      <td>-0.617144</td>\n",
              "      <td>-0.475089</td>\n",
              "      <td>-0.755211</td>\n",
              "      <td>-0.652238</td>\n",
              "      <td>-0.216452</td>\n",
              "      <td>...</td>\n",
              "      <td>-0.270503</td>\n",
              "      <td>-1.409575</td>\n",
              "      <td>-0.426581</td>\n",
              "      <td>1.453725</td>\n",
              "      <td>-0.605922</td>\n",
              "      <td>-0.349285</td>\n",
              "      <td>0</td>\n",
              "      <td>1</td>\n",
              "      <td>0</td>\n",
              "      <td>0</td>\n",
              "    </tr>\n",
              "    <tr>\n",
              "      <th>4</th>\n",
              "      <td>-0.620410</td>\n",
              "      <td>0.360014</td>\n",
              "      <td>-0.071986</td>\n",
              "      <td>0.032021</td>\n",
              "      <td>0.086282</td>\n",
              "      <td>0.461188</td>\n",
              "      <td>-0.440536</td>\n",
              "      <td>1.868924</td>\n",
              "      <td>0.180913</td>\n",
              "      <td>0.256208</td>\n",
              "      <td>...</td>\n",
              "      <td>1.189764</td>\n",
              "      <td>-0.672903</td>\n",
              "      <td>0.888595</td>\n",
              "      <td>0.956046</td>\n",
              "      <td>0.771249</td>\n",
              "      <td>-0.745803</td>\n",
              "      <td>0</td>\n",
              "      <td>1</td>\n",
              "      <td>0</td>\n",
              "      <td>0</td>\n",
              "    </tr>\n",
              "  </tbody>\n",
              "</table>\n",
              "<p>5 rows × 22 columns</p>\n",
              "</div>\n",
              "      <button class=\"colab-df-convert\" onclick=\"convertToInteractive('df-6cb47c84-56b6-401c-a1af-a7945037dddf')\"\n",
              "              title=\"Convert this dataframe to an interactive table.\"\n",
              "              style=\"display:none;\">\n",
              "        \n",
              "  <svg xmlns=\"http://www.w3.org/2000/svg\" height=\"24px\"viewBox=\"0 0 24 24\"\n",
              "       width=\"24px\">\n",
              "    <path d=\"M0 0h24v24H0V0z\" fill=\"none\"/>\n",
              "    <path d=\"M18.56 5.44l.94 2.06.94-2.06 2.06-.94-2.06-.94-.94-2.06-.94 2.06-2.06.94zm-11 1L8.5 8.5l.94-2.06 2.06-.94-2.06-.94L8.5 2.5l-.94 2.06-2.06.94zm10 10l.94 2.06.94-2.06 2.06-.94-2.06-.94-.94-2.06-.94 2.06-2.06.94z\"/><path d=\"M17.41 7.96l-1.37-1.37c-.4-.4-.92-.59-1.43-.59-.52 0-1.04.2-1.43.59L10.3 9.45l-7.72 7.72c-.78.78-.78 2.05 0 2.83L4 21.41c.39.39.9.59 1.41.59.51 0 1.02-.2 1.41-.59l7.78-7.78 2.81-2.81c.8-.78.8-2.07 0-2.86zM5.41 20L4 18.59l7.72-7.72 1.47 1.35L5.41 20z\"/>\n",
              "  </svg>\n",
              "      </button>\n",
              "      \n",
              "  <style>\n",
              "    .colab-df-container {\n",
              "      display:flex;\n",
              "      flex-wrap:wrap;\n",
              "      gap: 12px;\n",
              "    }\n",
              "\n",
              "    .colab-df-convert {\n",
              "      background-color: #E8F0FE;\n",
              "      border: none;\n",
              "      border-radius: 50%;\n",
              "      cursor: pointer;\n",
              "      display: none;\n",
              "      fill: #1967D2;\n",
              "      height: 32px;\n",
              "      padding: 0 0 0 0;\n",
              "      width: 32px;\n",
              "    }\n",
              "\n",
              "    .colab-df-convert:hover {\n",
              "      background-color: #E2EBFA;\n",
              "      box-shadow: 0px 1px 2px rgba(60, 64, 67, 0.3), 0px 1px 3px 1px rgba(60, 64, 67, 0.15);\n",
              "      fill: #174EA6;\n",
              "    }\n",
              "\n",
              "    [theme=dark] .colab-df-convert {\n",
              "      background-color: #3B4455;\n",
              "      fill: #D2E3FC;\n",
              "    }\n",
              "\n",
              "    [theme=dark] .colab-df-convert:hover {\n",
              "      background-color: #434B5C;\n",
              "      box-shadow: 0px 1px 3px 1px rgba(0, 0, 0, 0.15);\n",
              "      filter: drop-shadow(0px 1px 2px rgba(0, 0, 0, 0.3));\n",
              "      fill: #FFFFFF;\n",
              "    }\n",
              "  </style>\n",
              "\n",
              "      <script>\n",
              "        const buttonEl =\n",
              "          document.querySelector('#df-6cb47c84-56b6-401c-a1af-a7945037dddf button.colab-df-convert');\n",
              "        buttonEl.style.display =\n",
              "          google.colab.kernel.accessAllowed ? 'block' : 'none';\n",
              "\n",
              "        async function convertToInteractive(key) {\n",
              "          const element = document.querySelector('#df-6cb47c84-56b6-401c-a1af-a7945037dddf');\n",
              "          const dataTable =\n",
              "            await google.colab.kernel.invokeFunction('convertToInteractive',\n",
              "                                                     [key], {});\n",
              "          if (!dataTable) return;\n",
              "\n",
              "          const docLinkHtml = 'Like what you see? Visit the ' +\n",
              "            '<a target=\"_blank\" href=https://colab.research.google.com/notebooks/data_table.ipynb>data table notebook</a>'\n",
              "            + ' to learn more about interactive tables.';\n",
              "          element.innerHTML = '';\n",
              "          dataTable['output_type'] = 'display_data';\n",
              "          await google.colab.output.renderOutput(dataTable, element);\n",
              "          const docLink = document.createElement('div');\n",
              "          docLink.innerHTML = docLinkHtml;\n",
              "          element.appendChild(docLink);\n",
              "        }\n",
              "      </script>\n",
              "    </div>\n",
              "  </div>\n",
              "  "
            ]
          },
          "metadata": {},
          "execution_count": 31
        }
      ]
    },
    {
      "cell_type": "markdown",
      "metadata": {
        "papermill": {
          "duration": 0.205304,
          "end_time": "2021-03-23T08:39:59.952586",
          "exception": false,
          "start_time": "2021-03-23T08:39:59.747282",
          "status": "completed"
        },
        "tags": [],
        "id": "28j7RNC04vMh"
      },
      "source": [
        "# Data Modelling : Machine Learning Modelling, Evaluation"
      ]
    },
    {
      "cell_type": "code",
      "execution_count": 32,
      "metadata": {
        "execution": {
          "iopub.execute_input": "2021-03-23T08:42:26.185165Z",
          "iopub.status.busy": "2021-03-23T08:42:26.184266Z",
          "iopub.status.idle": "2021-03-23T08:42:26.427844Z",
          "shell.execute_reply": "2021-03-23T08:42:26.427210Z"
        },
        "papermill": {
          "duration": 0.483645,
          "end_time": "2021-03-23T08:42:26.427985",
          "exception": false,
          "start_time": "2021-03-23T08:42:25.944340",
          "status": "completed"
        },
        "tags": [],
        "id": "xDSHfMCD4vMr",
        "colab": {
          "base_uri": "https://localhost:8080/"
        },
        "outputId": "5c1d1a2e-d9c6-4333-cd8e-18c2fbb45e5b"
      },
      "outputs": [
        {
          "output_type": "execute_result",
          "data": {
            "text/plain": [
              "Lasso(alpha=0.1)"
            ]
          },
          "metadata": {},
          "execution_count": 32
        }
      ],
      "source": [
        "# Building a linear regression model \n",
        "lm = LinearRegression()\n",
        "lm.fit(X_train,y_train)\n",
        "\n",
        "# Building a decision tree regression model \n",
        "tree = DecisionTreeRegressor()\n",
        "tree.fit(X_train, y_train)\n",
        "\n",
        "# Building a random forest regression model \n",
        "forest = RandomForestRegressor(n_estimators=500)\n",
        "forest.fit(X_train, y_train)\n",
        "\n",
        "# Building ridge regression model\n",
        "ridge = Ridge(alpha=0.1)\n",
        "ridge.fit(X_train_s,y_train) \n",
        "\n",
        "# Building Lasso regression model\n",
        "lasso = Lasso(alpha=0.1)\n",
        "lasso.fit(X_train_s, y_train)"
      ]
    },
    {
      "cell_type": "markdown",
      "source": [
        "## Model Evaluation"
      ],
      "metadata": {
        "id": "hBtqBA4TOJdU"
      }
    },
    {
      "cell_type": "code",
      "source": [
        "# Multiple linear regression\n",
        "y_pred_test = lm.predict(X_test)\n",
        "y_pred_train = lm.predict(X_train)\n",
        "rmse_test = round(np.sqrt(mean_squared_error(y_test, y_pred_test)),2)\n",
        "rmse_train = round(np.sqrt(mean_squared_error(y_train, y_pred_train)),2)\n",
        "\n",
        "# Decision Tree regression\n",
        "y_pred_test_tree = tree.predict(X_test)\n",
        "y_pred_train_tree = tree.predict(X_train)\n",
        "rmse_test_tree = round(np.sqrt(mean_squared_error(y_test, y_pred_test_tree)),2)\n",
        "rmse_train_tree = round(np.sqrt(mean_squared_error(y_train, y_pred_train_tree)),2)\n",
        "\n",
        "# Random forest regression \n",
        "y_pred_test_forest = forest.predict(X_test)\n",
        "y_pred_train_forest = forest.predict(X_train)\n",
        "rmse_test_forest = round(np.sqrt(mean_squared_error(y_test, y_pred_test_forest)),2)\n",
        "rmse_train_forest = round(np.sqrt(mean_squared_error(y_train, y_pred_train_forest)),2)\n",
        "\n",
        "# Ridge regression\n",
        "y_pred_ridge_train = ridge.predict(X_train_s)\n",
        "y_pred_ridge_test = ridge.predict(X_test_s)\n",
        "rmse_test_ridge = round(np.sqrt(mean_squared_error(y_test, y_pred_ridge_test)),2)\n",
        "rmse_train_ridge = round(np.sqrt(mean_squared_error(y_train, y_pred_ridge_train)),2)\n",
        "\n",
        "# Lasso regression\n",
        "y_pred_lasso_train = lasso.predict(X_train_s)\n",
        "y_pred_lasso_test = lasso.predict(X_test_s)\n",
        "rmse_test_lasso = round(np.sqrt(mean_squared_error(y_test, y_pred_lasso_test)),2)\n",
        "rmse_train_lasso = round(np.sqrt(mean_squared_error(y_train, y_pred_lasso_train)),2)\n",
        "\n",
        "# Dictionary linking the train and test (validation) rmse results to each corresponding model\n",
        "data = {'Regression model':  ['Mulitiple linear', 'Decision Tree', 'Random Forest', 'Ridge', 'Lasso'],\n",
        "        'RMSE Training': [rmse_train, rmse_train_tree, rmse_train_forest, rmse_train_ridge, rmse_train_lasso],\n",
        "        'RMSE Testing' : [rmse_test, rmse_test_tree, rmse_test_forest, rmse_test_ridge, rmse_test_lasso]\n",
        "        }\n",
        "\n",
        "# Display results\n",
        "df = pd.DataFrame (data, columns=['Regression model', 'RMSE Training', 'RMSE Testing'])\n",
        "df.head()"
      ],
      "metadata": {
        "colab": {
          "base_uri": "https://localhost:8080/",
          "height": 206
        },
        "id": "fx0-DKthOQZF",
        "outputId": "1c9a1ab5-7787-4b83-a1d4-4b98f2067533"
      },
      "execution_count": 33,
      "outputs": [
        {
          "output_type": "execute_result",
          "data": {
            "text/plain": [
              "   Regression model  RMSE Training  RMSE Testing\n",
              "0  Mulitiple linear         798.15        781.11\n",
              "1     Decision Tree           0.00       1111.49\n",
              "2     Random Forest         284.21        756.08\n",
              "3             Ridge         798.15        780.70\n",
              "4             Lasso         798.15        780.72"
            ],
            "text/html": [
              "\n",
              "  <div id=\"df-8b68bceb-5482-49b6-b8de-372f8b6efb46\">\n",
              "    <div class=\"colab-df-container\">\n",
              "      <div>\n",
              "<style scoped>\n",
              "    .dataframe tbody tr th:only-of-type {\n",
              "        vertical-align: middle;\n",
              "    }\n",
              "\n",
              "    .dataframe tbody tr th {\n",
              "        vertical-align: top;\n",
              "    }\n",
              "\n",
              "    .dataframe thead th {\n",
              "        text-align: right;\n",
              "    }\n",
              "</style>\n",
              "<table border=\"1\" class=\"dataframe\">\n",
              "  <thead>\n",
              "    <tr style=\"text-align: right;\">\n",
              "      <th></th>\n",
              "      <th>Regression model</th>\n",
              "      <th>RMSE Training</th>\n",
              "      <th>RMSE Testing</th>\n",
              "    </tr>\n",
              "  </thead>\n",
              "  <tbody>\n",
              "    <tr>\n",
              "      <th>0</th>\n",
              "      <td>Mulitiple linear</td>\n",
              "      <td>798.15</td>\n",
              "      <td>781.11</td>\n",
              "    </tr>\n",
              "    <tr>\n",
              "      <th>1</th>\n",
              "      <td>Decision Tree</td>\n",
              "      <td>0.00</td>\n",
              "      <td>1111.49</td>\n",
              "    </tr>\n",
              "    <tr>\n",
              "      <th>2</th>\n",
              "      <td>Random Forest</td>\n",
              "      <td>284.21</td>\n",
              "      <td>756.08</td>\n",
              "    </tr>\n",
              "    <tr>\n",
              "      <th>3</th>\n",
              "      <td>Ridge</td>\n",
              "      <td>798.15</td>\n",
              "      <td>780.70</td>\n",
              "    </tr>\n",
              "    <tr>\n",
              "      <th>4</th>\n",
              "      <td>Lasso</td>\n",
              "      <td>798.15</td>\n",
              "      <td>780.72</td>\n",
              "    </tr>\n",
              "  </tbody>\n",
              "</table>\n",
              "</div>\n",
              "      <button class=\"colab-df-convert\" onclick=\"convertToInteractive('df-8b68bceb-5482-49b6-b8de-372f8b6efb46')\"\n",
              "              title=\"Convert this dataframe to an interactive table.\"\n",
              "              style=\"display:none;\">\n",
              "        \n",
              "  <svg xmlns=\"http://www.w3.org/2000/svg\" height=\"24px\"viewBox=\"0 0 24 24\"\n",
              "       width=\"24px\">\n",
              "    <path d=\"M0 0h24v24H0V0z\" fill=\"none\"/>\n",
              "    <path d=\"M18.56 5.44l.94 2.06.94-2.06 2.06-.94-2.06-.94-.94-2.06-.94 2.06-2.06.94zm-11 1L8.5 8.5l.94-2.06 2.06-.94-2.06-.94L8.5 2.5l-.94 2.06-2.06.94zm10 10l.94 2.06.94-2.06 2.06-.94-2.06-.94-.94-2.06-.94 2.06-2.06.94z\"/><path d=\"M17.41 7.96l-1.37-1.37c-.4-.4-.92-.59-1.43-.59-.52 0-1.04.2-1.43.59L10.3 9.45l-7.72 7.72c-.78.78-.78 2.05 0 2.83L4 21.41c.39.39.9.59 1.41.59.51 0 1.02-.2 1.41-.59l7.78-7.78 2.81-2.81c.8-.78.8-2.07 0-2.86zM5.41 20L4 18.59l7.72-7.72 1.47 1.35L5.41 20z\"/>\n",
              "  </svg>\n",
              "      </button>\n",
              "      \n",
              "  <style>\n",
              "    .colab-df-container {\n",
              "      display:flex;\n",
              "      flex-wrap:wrap;\n",
              "      gap: 12px;\n",
              "    }\n",
              "\n",
              "    .colab-df-convert {\n",
              "      background-color: #E8F0FE;\n",
              "      border: none;\n",
              "      border-radius: 50%;\n",
              "      cursor: pointer;\n",
              "      display: none;\n",
              "      fill: #1967D2;\n",
              "      height: 32px;\n",
              "      padding: 0 0 0 0;\n",
              "      width: 32px;\n",
              "    }\n",
              "\n",
              "    .colab-df-convert:hover {\n",
              "      background-color: #E2EBFA;\n",
              "      box-shadow: 0px 1px 2px rgba(60, 64, 67, 0.3), 0px 1px 3px 1px rgba(60, 64, 67, 0.15);\n",
              "      fill: #174EA6;\n",
              "    }\n",
              "\n",
              "    [theme=dark] .colab-df-convert {\n",
              "      background-color: #3B4455;\n",
              "      fill: #D2E3FC;\n",
              "    }\n",
              "\n",
              "    [theme=dark] .colab-df-convert:hover {\n",
              "      background-color: #434B5C;\n",
              "      box-shadow: 0px 1px 3px 1px rgba(0, 0, 0, 0.15);\n",
              "      filter: drop-shadow(0px 1px 2px rgba(0, 0, 0, 0.3));\n",
              "      fill: #FFFFFF;\n",
              "    }\n",
              "  </style>\n",
              "\n",
              "      <script>\n",
              "        const buttonEl =\n",
              "          document.querySelector('#df-8b68bceb-5482-49b6-b8de-372f8b6efb46 button.colab-df-convert');\n",
              "        buttonEl.style.display =\n",
              "          google.colab.kernel.accessAllowed ? 'block' : 'none';\n",
              "\n",
              "        async function convertToInteractive(key) {\n",
              "          const element = document.querySelector('#df-8b68bceb-5482-49b6-b8de-372f8b6efb46');\n",
              "          const dataTable =\n",
              "            await google.colab.kernel.invokeFunction('convertToInteractive',\n",
              "                                                     [key], {});\n",
              "          if (!dataTable) return;\n",
              "\n",
              "          const docLinkHtml = 'Like what you see? Visit the ' +\n",
              "            '<a target=\"_blank\" href=https://colab.research.google.com/notebooks/data_table.ipynb>data table notebook</a>'\n",
              "            + ' to learn more about interactive tables.';\n",
              "          element.innerHTML = '';\n",
              "          dataTable['output_type'] = 'display_data';\n",
              "          await google.colab.output.renderOutput(dataTable, element);\n",
              "          const docLink = document.createElement('div');\n",
              "          docLink.innerHTML = docLinkHtml;\n",
              "          element.appendChild(docLink);\n",
              "        }\n",
              "      </script>\n",
              "    </div>\n",
              "  </div>\n",
              "  "
            ]
          },
          "metadata": {},
          "execution_count": 33
        }
      ]
    },
    {
      "cell_type": "markdown",
      "source": [
        "# Findings and Recommendations"
      ],
      "metadata": {
        "id": "-S-gnuRC0sB-"
      }
    },
    {
      "cell_type": "markdown",
      "source": [
        "## Findings"
      ],
      "metadata": {
        "id": "moqIpdw42F-b"
      }
    },
    {
      "cell_type": "markdown",
      "source": [
        "* The Decision Tree model performed the best on train data however, has the largest test error, an indication of overfitting. This can be improved by hyperparmeter tuning. Finding the optimal maximum depth reduces the degree of overfitting. Using a maximum depth of 5 significantly improved the model, decreasing the testing RMSE to 780.\n",
        "\n",
        "* The Multiple Linear Regression model performed consistently on both train and test data (lowest variance) and also performed better with the unseen data set.\n",
        "\n",
        "* The Random Forest model has the lowest Train Error and the lowest RMSE on the unseen data. The Random Forest model was therefore selected as the final model.\n",
        "\n",
        "* As distance travelled between pickup and delivery increases so does time taken to traverse that distance.\n",
        "* Because rating a rider is optional for a customer, a customer would be more inclined to rate a rider/order when they've experienced bad service or poor delivery times than expected, thus perhaps explaining this positive correlation with Time from Pickup to Arrival.\n",
        "* Business orders account for 80% of total orders and as the Company may have obligations to fill in terms of their business client deliveries, these may be prioritised over personal orders for off peak traffic hours.\n",
        "* The No of Orders a rider has delivered is a measure of experience thus explaining the negative correlation - a more experienced and established Rider would generally mean a shorter delivery time."
      ],
      "metadata": {
        "id": "TDacR0Uy04i0"
      }
    },
    {
      "cell_type": "markdown",
      "source": [
        "## Recommendations"
      ],
      "metadata": {
        "id": "5wbVbSrH2NJj"
      }
    },
    {
      "cell_type": "markdown",
      "source": [
        "\n",
        "\n",
        "*   Random Forest was a better model choice as linear regression models are sensitive to outliers which were present in both train and test data.\n",
        "\n",
        "* Linear regression models makes assumptions about the nature of the data. One of these assumptions is that no multicollinearity exists between variables. From the heatmap produced in the EDA we saw that the rider metrics were all strongly correlated features. Random forest regression, however, makes no assumptions about the data and handles categorical data well.\n",
        "\n",
        "*   More training data with less bias will increase the accuracy of the model\n",
        "\n",
        "* 740 observations were found to have unusual delivery times. This raised some concerns around the quality of the training dataset.It is recommended that the source of these errors is identified or more rigourous data cleaning that would drop these entries with unrealistic delivery times from the data set before the train-test split.\n",
        "\n",
        "*   Hyper paramter tuning is required in order to improve model accuracy.\n",
        "\n",
        "\n",
        "\n",
        "\n"
      ],
      "metadata": {
        "id": "1JP6N9U_2RX3"
      }
    }
  ],
  "metadata": {
    "kernelspec": {
      "display_name": "Python 3",
      "language": "python",
      "name": "python3"
    },
    "language_info": {
      "codemirror_mode": {
        "name": "ipython",
        "version": 3
      },
      "file_extension": ".py",
      "mimetype": "text/x-python",
      "name": "python",
      "nbconvert_exporter": "python",
      "pygments_lexer": "ipython3",
      "version": "3.7.9"
    },
    "papermill": {
      "default_parameters": {},
      "duration": 575.353104,
      "end_time": "2021-03-23T08:48:26.303249",
      "environment_variables": {},
      "exception": null,
      "input_path": "__notebook__.ipynb",
      "output_path": "__notebook__.ipynb",
      "parameters": {},
      "start_time": "2021-03-23T08:38:50.950145",
      "version": "2.2.2"
    },
    "colab": {
      "provenance": [],
      "collapsed_sections": [
        "c9bAr3p9AJhJ",
        "3esEX0SU-Kom",
        "pQtXNEo54vMU",
        "nz8rcbVd4vMW"
      ]
    }
  },
  "nbformat": 4,
  "nbformat_minor": 0
}